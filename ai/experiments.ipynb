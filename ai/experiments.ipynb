{
 "cells": [
  {
   "cell_type": "code",
   "execution_count": 2,
   "id": "a7820bda-c4fa-40d9-84be-5d3fe8634bdf",
   "metadata": {
    "collapsed": true,
    "jupyter": {
     "outputs_hidden": true
    }
   },
   "outputs": [
    {
     "name": "stdout",
     "output_type": "stream",
     "text": [
      "Requirement already satisfied: utils in /Users/ssherwood/Repos/jupyter-notebooks/.venv/lib/python3.11/site-packages (1.0.2)\n",
      "Requirement already satisfied: fastbook in /Users/ssherwood/Repos/jupyter-notebooks/.venv/lib/python3.11/site-packages (0.0.29)\n",
      "Requirement already satisfied: torch in /Users/ssherwood/Repos/jupyter-notebooks/.venv/lib/python3.11/site-packages (2.2.2)\n",
      "Requirement already satisfied: torchvision in /Users/ssherwood/Repos/jupyter-notebooks/.venv/lib/python3.11/site-packages (0.17.2)\n",
      "Requirement already satisfied: pip in /Users/ssherwood/Repos/jupyter-notebooks/.venv/lib/python3.11/site-packages (from fastbook) (25.0.1)\n",
      "Requirement already satisfied: packaging in /Users/ssherwood/Repos/jupyter-notebooks/.venv/lib/python3.11/site-packages (from fastbook) (24.2)\n",
      "Requirement already satisfied: fastai>=2.6 in /Users/ssherwood/Repos/jupyter-notebooks/.venv/lib/python3.11/site-packages (from fastbook) (2.7.18)\n",
      "Requirement already satisfied: graphviz in /Users/ssherwood/Repos/jupyter-notebooks/.venv/lib/python3.11/site-packages (from fastbook) (0.20.3)\n",
      "Requirement already satisfied: pandas in /Users/ssherwood/Repos/jupyter-notebooks/.venv/lib/python3.11/site-packages (from fastbook) (2.2.3)\n",
      "Requirement already satisfied: requests in /Users/ssherwood/Repos/jupyter-notebooks/.venv/lib/python3.11/site-packages (from fastbook) (2.32.3)\n",
      "Requirement already satisfied: transformers in /Users/ssherwood/Repos/jupyter-notebooks/.venv/lib/python3.11/site-packages (from fastbook) (4.49.0)\n",
      "Requirement already satisfied: datasets in /Users/ssherwood/Repos/jupyter-notebooks/.venv/lib/python3.11/site-packages (from fastbook) (3.3.2)\n",
      "Requirement already satisfied: ipywidgets<8 in /Users/ssherwood/Repos/jupyter-notebooks/.venv/lib/python3.11/site-packages (from fastbook) (7.8.5)\n",
      "Requirement already satisfied: sentencepiece in /Users/ssherwood/Repos/jupyter-notebooks/.venv/lib/python3.11/site-packages (from fastbook) (0.2.0)\n",
      "Requirement already satisfied: filelock in /Users/ssherwood/Repos/jupyter-notebooks/.venv/lib/python3.11/site-packages (from torch) (3.17.0)\n",
      "Requirement already satisfied: typing-extensions>=4.8.0 in /Users/ssherwood/Repos/jupyter-notebooks/.venv/lib/python3.11/site-packages (from torch) (4.12.2)\n",
      "Requirement already satisfied: sympy in /Users/ssherwood/Repos/jupyter-notebooks/.venv/lib/python3.11/site-packages (from torch) (1.13.3)\n",
      "Requirement already satisfied: networkx in /Users/ssherwood/Repos/jupyter-notebooks/.venv/lib/python3.11/site-packages (from torch) (3.4.2)\n",
      "Requirement already satisfied: jinja2 in /Users/ssherwood/Repos/jupyter-notebooks/.venv/lib/python3.11/site-packages (from torch) (3.1.5)\n",
      "Requirement already satisfied: fsspec in /Users/ssherwood/Repos/jupyter-notebooks/.venv/lib/python3.11/site-packages (from torch) (2024.12.0)\n",
      "Requirement already satisfied: numpy in /Users/ssherwood/Repos/jupyter-notebooks/.venv/lib/python3.11/site-packages (from torchvision) (2.2.3)\n",
      "Requirement already satisfied: pillow!=8.3.*,>=5.3.0 in /Users/ssherwood/Repos/jupyter-notebooks/.venv/lib/python3.11/site-packages (from torchvision) (11.1.0)\n",
      "Requirement already satisfied: fastdownload<2,>=0.0.5 in /Users/ssherwood/Repos/jupyter-notebooks/.venv/lib/python3.11/site-packages (from fastai>=2.6->fastbook) (0.0.7)\n",
      "Requirement already satisfied: fastcore<1.8,>=1.5.29 in /Users/ssherwood/Repos/jupyter-notebooks/.venv/lib/python3.11/site-packages (from fastai>=2.6->fastbook) (1.7.29)\n",
      "Requirement already satisfied: matplotlib in /Users/ssherwood/Repos/jupyter-notebooks/.venv/lib/python3.11/site-packages (from fastai>=2.6->fastbook) (3.10.1)\n",
      "Requirement already satisfied: pyyaml in /Users/ssherwood/Repos/jupyter-notebooks/.venv/lib/python3.11/site-packages (from fastai>=2.6->fastbook) (6.0.2)\n",
      "Requirement already satisfied: fastprogress>=0.2.4 in /Users/ssherwood/Repos/jupyter-notebooks/.venv/lib/python3.11/site-packages (from fastai>=2.6->fastbook) (1.0.3)\n",
      "Requirement already satisfied: scikit-learn in /Users/ssherwood/Repos/jupyter-notebooks/.venv/lib/python3.11/site-packages (from fastai>=2.6->fastbook) (1.6.1)\n",
      "Requirement already satisfied: scipy in /Users/ssherwood/Repos/jupyter-notebooks/.venv/lib/python3.11/site-packages (from fastai>=2.6->fastbook) (1.15.2)\n",
      "Requirement already satisfied: spacy<4 in /Users/ssherwood/Repos/jupyter-notebooks/.venv/lib/python3.11/site-packages (from fastai>=2.6->fastbook) (3.8.4)\n",
      "Requirement already satisfied: comm>=0.1.3 in /Users/ssherwood/Repos/jupyter-notebooks/.venv/lib/python3.11/site-packages (from ipywidgets<8->fastbook) (0.2.2)\n",
      "Requirement already satisfied: ipython-genutils~=0.2.0 in /Users/ssherwood/Repos/jupyter-notebooks/.venv/lib/python3.11/site-packages (from ipywidgets<8->fastbook) (0.2.0)\n",
      "Requirement already satisfied: traitlets>=4.3.1 in /Users/ssherwood/Repos/jupyter-notebooks/.venv/lib/python3.11/site-packages (from ipywidgets<8->fastbook) (5.14.3)\n",
      "Requirement already satisfied: widgetsnbextension~=3.6.10 in /Users/ssherwood/Repos/jupyter-notebooks/.venv/lib/python3.11/site-packages (from ipywidgets<8->fastbook) (3.6.10)\n",
      "Requirement already satisfied: ipython>=4.0.0 in /Users/ssherwood/Repos/jupyter-notebooks/.venv/lib/python3.11/site-packages (from ipywidgets<8->fastbook) (9.0.1)\n",
      "Requirement already satisfied: jupyterlab-widgets<3,>=1.0.0 in /Users/ssherwood/Repos/jupyter-notebooks/.venv/lib/python3.11/site-packages (from ipywidgets<8->fastbook) (1.1.11)\n",
      "Requirement already satisfied: pyarrow>=15.0.0 in /Users/ssherwood/Repos/jupyter-notebooks/.venv/lib/python3.11/site-packages (from datasets->fastbook) (19.0.1)\n",
      "Requirement already satisfied: dill<0.3.9,>=0.3.0 in /Users/ssherwood/Repos/jupyter-notebooks/.venv/lib/python3.11/site-packages (from datasets->fastbook) (0.3.8)\n",
      "Requirement already satisfied: tqdm>=4.66.3 in /Users/ssherwood/Repos/jupyter-notebooks/.venv/lib/python3.11/site-packages (from datasets->fastbook) (4.67.1)\n",
      "Requirement already satisfied: xxhash in /Users/ssherwood/Repos/jupyter-notebooks/.venv/lib/python3.11/site-packages (from datasets->fastbook) (3.5.0)\n",
      "Requirement already satisfied: multiprocess<0.70.17 in /Users/ssherwood/Repos/jupyter-notebooks/.venv/lib/python3.11/site-packages (from datasets->fastbook) (0.70.16)\n",
      "Requirement already satisfied: aiohttp in /Users/ssherwood/Repos/jupyter-notebooks/.venv/lib/python3.11/site-packages (from datasets->fastbook) (3.11.13)\n",
      "Requirement already satisfied: huggingface-hub>=0.24.0 in /Users/ssherwood/Repos/jupyter-notebooks/.venv/lib/python3.11/site-packages (from datasets->fastbook) (0.29.1)\n",
      "Requirement already satisfied: charset-normalizer<4,>=2 in /Users/ssherwood/Repos/jupyter-notebooks/.venv/lib/python3.11/site-packages (from requests->fastbook) (3.4.1)\n",
      "Requirement already satisfied: idna<4,>=2.5 in /Users/ssherwood/Repos/jupyter-notebooks/.venv/lib/python3.11/site-packages (from requests->fastbook) (3.10)\n",
      "Requirement already satisfied: urllib3<3,>=1.21.1 in /Users/ssherwood/Repos/jupyter-notebooks/.venv/lib/python3.11/site-packages (from requests->fastbook) (2.3.0)\n",
      "Requirement already satisfied: certifi>=2017.4.17 in /Users/ssherwood/Repos/jupyter-notebooks/.venv/lib/python3.11/site-packages (from requests->fastbook) (2025.1.31)\n",
      "Requirement already satisfied: MarkupSafe>=2.0 in /Users/ssherwood/Repos/jupyter-notebooks/.venv/lib/python3.11/site-packages (from jinja2->torch) (3.0.2)\n",
      "Requirement already satisfied: python-dateutil>=2.8.2 in /Users/ssherwood/Repos/jupyter-notebooks/.venv/lib/python3.11/site-packages (from pandas->fastbook) (2.9.0.post0)\n",
      "Requirement already satisfied: pytz>=2020.1 in /Users/ssherwood/Repos/jupyter-notebooks/.venv/lib/python3.11/site-packages (from pandas->fastbook) (2025.1)\n",
      "Requirement already satisfied: tzdata>=2022.7 in /Users/ssherwood/Repos/jupyter-notebooks/.venv/lib/python3.11/site-packages (from pandas->fastbook) (2025.1)\n",
      "Requirement already satisfied: mpmath<1.4,>=1.1.0 in /Users/ssherwood/Repos/jupyter-notebooks/.venv/lib/python3.11/site-packages (from sympy->torch) (1.3.0)\n",
      "Requirement already satisfied: regex!=2019.12.17 in /Users/ssherwood/Repos/jupyter-notebooks/.venv/lib/python3.11/site-packages (from transformers->fastbook) (2024.11.6)\n",
      "Requirement already satisfied: tokenizers<0.22,>=0.21 in /Users/ssherwood/Repos/jupyter-notebooks/.venv/lib/python3.11/site-packages (from transformers->fastbook) (0.21.0)\n",
      "Requirement already satisfied: safetensors>=0.4.1 in /Users/ssherwood/Repos/jupyter-notebooks/.venv/lib/python3.11/site-packages (from transformers->fastbook) (0.5.3)\n",
      "Requirement already satisfied: aiohappyeyeballs>=2.3.0 in /Users/ssherwood/Repos/jupyter-notebooks/.venv/lib/python3.11/site-packages (from aiohttp->datasets->fastbook) (2.4.6)\n",
      "Requirement already satisfied: aiosignal>=1.1.2 in /Users/ssherwood/Repos/jupyter-notebooks/.venv/lib/python3.11/site-packages (from aiohttp->datasets->fastbook) (1.3.2)\n",
      "Requirement already satisfied: attrs>=17.3.0 in /Users/ssherwood/Repos/jupyter-notebooks/.venv/lib/python3.11/site-packages (from aiohttp->datasets->fastbook) (25.1.0)\n",
      "Requirement already satisfied: frozenlist>=1.1.1 in /Users/ssherwood/Repos/jupyter-notebooks/.venv/lib/python3.11/site-packages (from aiohttp->datasets->fastbook) (1.5.0)\n",
      "Requirement already satisfied: multidict<7.0,>=4.5 in /Users/ssherwood/Repos/jupyter-notebooks/.venv/lib/python3.11/site-packages (from aiohttp->datasets->fastbook) (6.1.0)\n",
      "Requirement already satisfied: propcache>=0.2.0 in /Users/ssherwood/Repos/jupyter-notebooks/.venv/lib/python3.11/site-packages (from aiohttp->datasets->fastbook) (0.3.0)\n",
      "Requirement already satisfied: yarl<2.0,>=1.17.0 in /Users/ssherwood/Repos/jupyter-notebooks/.venv/lib/python3.11/site-packages (from aiohttp->datasets->fastbook) (1.18.3)\n",
      "Requirement already satisfied: decorator in /Users/ssherwood/Repos/jupyter-notebooks/.venv/lib/python3.11/site-packages (from ipython>=4.0.0->ipywidgets<8->fastbook) (5.2.1)\n",
      "Requirement already satisfied: ipython-pygments-lexers in /Users/ssherwood/Repos/jupyter-notebooks/.venv/lib/python3.11/site-packages (from ipython>=4.0.0->ipywidgets<8->fastbook) (1.1.1)\n",
      "Requirement already satisfied: jedi>=0.16 in /Users/ssherwood/Repos/jupyter-notebooks/.venv/lib/python3.11/site-packages (from ipython>=4.0.0->ipywidgets<8->fastbook) (0.19.2)\n",
      "Requirement already satisfied: matplotlib-inline in /Users/ssherwood/Repos/jupyter-notebooks/.venv/lib/python3.11/site-packages (from ipython>=4.0.0->ipywidgets<8->fastbook) (0.1.7)\n",
      "Requirement already satisfied: pexpect>4.3 in /Users/ssherwood/Repos/jupyter-notebooks/.venv/lib/python3.11/site-packages (from ipython>=4.0.0->ipywidgets<8->fastbook) (4.9.0)\n",
      "Requirement already satisfied: prompt_toolkit<3.1.0,>=3.0.41 in /Users/ssherwood/Repos/jupyter-notebooks/.venv/lib/python3.11/site-packages (from ipython>=4.0.0->ipywidgets<8->fastbook) (3.0.50)\n",
      "Requirement already satisfied: pygments>=2.4.0 in /Users/ssherwood/Repos/jupyter-notebooks/.venv/lib/python3.11/site-packages (from ipython>=4.0.0->ipywidgets<8->fastbook) (2.19.1)\n",
      "Requirement already satisfied: stack_data in /Users/ssherwood/Repos/jupyter-notebooks/.venv/lib/python3.11/site-packages (from ipython>=4.0.0->ipywidgets<8->fastbook) (0.6.3)\n",
      "Requirement already satisfied: six>=1.5 in /Users/ssherwood/Repos/jupyter-notebooks/.venv/lib/python3.11/site-packages (from python-dateutil>=2.8.2->pandas->fastbook) (1.17.0)\n",
      "Requirement already satisfied: spacy-legacy<3.1.0,>=3.0.11 in /Users/ssherwood/Repos/jupyter-notebooks/.venv/lib/python3.11/site-packages (from spacy<4->fastai>=2.6->fastbook) (3.0.12)\n",
      "Requirement already satisfied: spacy-loggers<2.0.0,>=1.0.0 in /Users/ssherwood/Repos/jupyter-notebooks/.venv/lib/python3.11/site-packages (from spacy<4->fastai>=2.6->fastbook) (1.0.5)\n",
      "Requirement already satisfied: murmurhash<1.1.0,>=0.28.0 in /Users/ssherwood/Repos/jupyter-notebooks/.venv/lib/python3.11/site-packages (from spacy<4->fastai>=2.6->fastbook) (1.0.12)\n",
      "Requirement already satisfied: cymem<2.1.0,>=2.0.2 in /Users/ssherwood/Repos/jupyter-notebooks/.venv/lib/python3.11/site-packages (from spacy<4->fastai>=2.6->fastbook) (2.0.11)\n",
      "Requirement already satisfied: preshed<3.1.0,>=3.0.2 in /Users/ssherwood/Repos/jupyter-notebooks/.venv/lib/python3.11/site-packages (from spacy<4->fastai>=2.6->fastbook) (3.0.9)\n",
      "Requirement already satisfied: thinc<8.4.0,>=8.3.4 in /Users/ssherwood/Repos/jupyter-notebooks/.venv/lib/python3.11/site-packages (from spacy<4->fastai>=2.6->fastbook) (8.3.4)\n",
      "Requirement already satisfied: wasabi<1.2.0,>=0.9.1 in /Users/ssherwood/Repos/jupyter-notebooks/.venv/lib/python3.11/site-packages (from spacy<4->fastai>=2.6->fastbook) (1.1.3)\n",
      "Requirement already satisfied: srsly<3.0.0,>=2.4.3 in /Users/ssherwood/Repos/jupyter-notebooks/.venv/lib/python3.11/site-packages (from spacy<4->fastai>=2.6->fastbook) (2.5.1)\n",
      "Requirement already satisfied: catalogue<2.1.0,>=2.0.6 in /Users/ssherwood/Repos/jupyter-notebooks/.venv/lib/python3.11/site-packages (from spacy<4->fastai>=2.6->fastbook) (2.0.10)\n",
      "Requirement already satisfied: weasel<0.5.0,>=0.1.0 in /Users/ssherwood/Repos/jupyter-notebooks/.venv/lib/python3.11/site-packages (from spacy<4->fastai>=2.6->fastbook) (0.4.1)\n",
      "Requirement already satisfied: typer<1.0.0,>=0.3.0 in /Users/ssherwood/Repos/jupyter-notebooks/.venv/lib/python3.11/site-packages (from spacy<4->fastai>=2.6->fastbook) (0.15.2)\n",
      "Requirement already satisfied: pydantic!=1.8,!=1.8.1,<3.0.0,>=1.7.4 in /Users/ssherwood/Repos/jupyter-notebooks/.venv/lib/python3.11/site-packages (from spacy<4->fastai>=2.6->fastbook) (2.10.6)\n",
      "Requirement already satisfied: setuptools in /Users/ssherwood/Repos/jupyter-notebooks/.venv/lib/python3.11/site-packages (from spacy<4->fastai>=2.6->fastbook) (75.6.0)\n",
      "Requirement already satisfied: langcodes<4.0.0,>=3.2.0 in /Users/ssherwood/Repos/jupyter-notebooks/.venv/lib/python3.11/site-packages (from spacy<4->fastai>=2.6->fastbook) (3.5.0)\n",
      "Requirement already satisfied: notebook>=4.4.1 in /Users/ssherwood/Repos/jupyter-notebooks/.venv/lib/python3.11/site-packages (from widgetsnbextension~=3.6.10->ipywidgets<8->fastbook) (7.3.2)\n",
      "Requirement already satisfied: contourpy>=1.0.1 in /Users/ssherwood/Repos/jupyter-notebooks/.venv/lib/python3.11/site-packages (from matplotlib->fastai>=2.6->fastbook) (1.3.1)\n",
      "Requirement already satisfied: cycler>=0.10 in /Users/ssherwood/Repos/jupyter-notebooks/.venv/lib/python3.11/site-packages (from matplotlib->fastai>=2.6->fastbook) (0.12.1)\n",
      "Requirement already satisfied: fonttools>=4.22.0 in /Users/ssherwood/Repos/jupyter-notebooks/.venv/lib/python3.11/site-packages (from matplotlib->fastai>=2.6->fastbook) (4.56.0)\n",
      "Requirement already satisfied: kiwisolver>=1.3.1 in /Users/ssherwood/Repos/jupyter-notebooks/.venv/lib/python3.11/site-packages (from matplotlib->fastai>=2.6->fastbook) (1.4.8)\n",
      "Requirement already satisfied: pyparsing>=2.3.1 in /Users/ssherwood/Repos/jupyter-notebooks/.venv/lib/python3.11/site-packages (from matplotlib->fastai>=2.6->fastbook) (3.2.1)\n",
      "Requirement already satisfied: joblib>=1.2.0 in /Users/ssherwood/Repos/jupyter-notebooks/.venv/lib/python3.11/site-packages (from scikit-learn->fastai>=2.6->fastbook) (1.4.2)\n",
      "Requirement already satisfied: threadpoolctl>=3.1.0 in /Users/ssherwood/Repos/jupyter-notebooks/.venv/lib/python3.11/site-packages (from scikit-learn->fastai>=2.6->fastbook) (3.5.0)\n",
      "Requirement already satisfied: parso<0.9.0,>=0.8.4 in /Users/ssherwood/Repos/jupyter-notebooks/.venv/lib/python3.11/site-packages (from jedi>=0.16->ipython>=4.0.0->ipywidgets<8->fastbook) (0.8.4)\n",
      "Requirement already satisfied: language-data>=1.2 in /Users/ssherwood/Repos/jupyter-notebooks/.venv/lib/python3.11/site-packages (from langcodes<4.0.0,>=3.2.0->spacy<4->fastai>=2.6->fastbook) (1.3.0)\n",
      "Requirement already satisfied: jupyter-server<3,>=2.4.0 in /Users/ssherwood/Repos/jupyter-notebooks/.venv/lib/python3.11/site-packages (from notebook>=4.4.1->widgetsnbextension~=3.6.10->ipywidgets<8->fastbook) (2.15.0)\n",
      "Requirement already satisfied: jupyterlab-server<3,>=2.27.1 in /Users/ssherwood/Repos/jupyter-notebooks/.venv/lib/python3.11/site-packages (from notebook>=4.4.1->widgetsnbextension~=3.6.10->ipywidgets<8->fastbook) (2.27.3)\n",
      "Requirement already satisfied: jupyterlab<4.4,>=4.3.4 in /Users/ssherwood/Repos/jupyter-notebooks/.venv/lib/python3.11/site-packages (from notebook>=4.4.1->widgetsnbextension~=3.6.10->ipywidgets<8->fastbook) (4.3.5)\n",
      "Requirement already satisfied: notebook-shim<0.3,>=0.2 in /Users/ssherwood/Repos/jupyter-notebooks/.venv/lib/python3.11/site-packages (from notebook>=4.4.1->widgetsnbextension~=3.6.10->ipywidgets<8->fastbook) (0.2.4)\n",
      "Requirement already satisfied: tornado>=6.2.0 in /Users/ssherwood/Repos/jupyter-notebooks/.venv/lib/python3.11/site-packages (from notebook>=4.4.1->widgetsnbextension~=3.6.10->ipywidgets<8->fastbook) (6.4.2)\n",
      "Requirement already satisfied: ptyprocess>=0.5 in /Users/ssherwood/Repos/jupyter-notebooks/.venv/lib/python3.11/site-packages (from pexpect>4.3->ipython>=4.0.0->ipywidgets<8->fastbook) (0.7.0)\n",
      "Requirement already satisfied: wcwidth in /Users/ssherwood/Repos/jupyter-notebooks/.venv/lib/python3.11/site-packages (from prompt_toolkit<3.1.0,>=3.0.41->ipython>=4.0.0->ipywidgets<8->fastbook) (0.2.13)\n",
      "Requirement already satisfied: annotated-types>=0.6.0 in /Users/ssherwood/Repos/jupyter-notebooks/.venv/lib/python3.11/site-packages (from pydantic!=1.8,!=1.8.1,<3.0.0,>=1.7.4->spacy<4->fastai>=2.6->fastbook) (0.7.0)\n",
      "Requirement already satisfied: pydantic-core==2.27.2 in /Users/ssherwood/Repos/jupyter-notebooks/.venv/lib/python3.11/site-packages (from pydantic!=1.8,!=1.8.1,<3.0.0,>=1.7.4->spacy<4->fastai>=2.6->fastbook) (2.27.2)\n",
      "Requirement already satisfied: blis<1.3.0,>=1.2.0 in /Users/ssherwood/Repos/jupyter-notebooks/.venv/lib/python3.11/site-packages (from thinc<8.4.0,>=8.3.4->spacy<4->fastai>=2.6->fastbook) (1.2.0)\n",
      "Requirement already satisfied: confection<1.0.0,>=0.0.1 in /Users/ssherwood/Repos/jupyter-notebooks/.venv/lib/python3.11/site-packages (from thinc<8.4.0,>=8.3.4->spacy<4->fastai>=2.6->fastbook) (0.1.5)\n",
      "Requirement already satisfied: click>=8.0.0 in /Users/ssherwood/Repos/jupyter-notebooks/.venv/lib/python3.11/site-packages (from typer<1.0.0,>=0.3.0->spacy<4->fastai>=2.6->fastbook) (8.1.8)\n",
      "Requirement already satisfied: shellingham>=1.3.0 in /Users/ssherwood/Repos/jupyter-notebooks/.venv/lib/python3.11/site-packages (from typer<1.0.0,>=0.3.0->spacy<4->fastai>=2.6->fastbook) (1.5.4)\n",
      "Requirement already satisfied: rich>=10.11.0 in /Users/ssherwood/Repos/jupyter-notebooks/.venv/lib/python3.11/site-packages (from typer<1.0.0,>=0.3.0->spacy<4->fastai>=2.6->fastbook) (13.9.4)\n",
      "Requirement already satisfied: cloudpathlib<1.0.0,>=0.7.0 in /Users/ssherwood/Repos/jupyter-notebooks/.venv/lib/python3.11/site-packages (from weasel<0.5.0,>=0.1.0->spacy<4->fastai>=2.6->fastbook) (0.20.0)\n",
      "Requirement already satisfied: smart-open<8.0.0,>=5.2.1 in /Users/ssherwood/Repos/jupyter-notebooks/.venv/lib/python3.11/site-packages (from weasel<0.5.0,>=0.1.0->spacy<4->fastai>=2.6->fastbook) (7.1.0)\n",
      "Requirement already satisfied: executing>=1.2.0 in /Users/ssherwood/Repos/jupyter-notebooks/.venv/lib/python3.11/site-packages (from stack_data->ipython>=4.0.0->ipywidgets<8->fastbook) (2.2.0)\n",
      "Requirement already satisfied: asttokens>=2.1.0 in /Users/ssherwood/Repos/jupyter-notebooks/.venv/lib/python3.11/site-packages (from stack_data->ipython>=4.0.0->ipywidgets<8->fastbook) (3.0.0)\n",
      "Requirement already satisfied: pure-eval in /Users/ssherwood/Repos/jupyter-notebooks/.venv/lib/python3.11/site-packages (from stack_data->ipython>=4.0.0->ipywidgets<8->fastbook) (0.2.3)\n",
      "Requirement already satisfied: anyio>=3.1.0 in /Users/ssherwood/Repos/jupyter-notebooks/.venv/lib/python3.11/site-packages (from jupyter-server<3,>=2.4.0->notebook>=4.4.1->widgetsnbextension~=3.6.10->ipywidgets<8->fastbook) (4.8.0)\n",
      "Requirement already satisfied: argon2-cffi>=21.1 in /Users/ssherwood/Repos/jupyter-notebooks/.venv/lib/python3.11/site-packages (from jupyter-server<3,>=2.4.0->notebook>=4.4.1->widgetsnbextension~=3.6.10->ipywidgets<8->fastbook) (23.1.0)\n",
      "Requirement already satisfied: jupyter-client>=7.4.4 in /Users/ssherwood/Repos/jupyter-notebooks/.venv/lib/python3.11/site-packages (from jupyter-server<3,>=2.4.0->notebook>=4.4.1->widgetsnbextension~=3.6.10->ipywidgets<8->fastbook) (8.6.3)\n",
      "Requirement already satisfied: jupyter-core!=5.0.*,>=4.12 in /Users/ssherwood/Repos/jupyter-notebooks/.venv/lib/python3.11/site-packages (from jupyter-server<3,>=2.4.0->notebook>=4.4.1->widgetsnbextension~=3.6.10->ipywidgets<8->fastbook) (5.7.2)\n",
      "Requirement already satisfied: jupyter-events>=0.11.0 in /Users/ssherwood/Repos/jupyter-notebooks/.venv/lib/python3.11/site-packages (from jupyter-server<3,>=2.4.0->notebook>=4.4.1->widgetsnbextension~=3.6.10->ipywidgets<8->fastbook) (0.12.0)\n",
      "Requirement already satisfied: jupyter-server-terminals>=0.4.4 in /Users/ssherwood/Repos/jupyter-notebooks/.venv/lib/python3.11/site-packages (from jupyter-server<3,>=2.4.0->notebook>=4.4.1->widgetsnbextension~=3.6.10->ipywidgets<8->fastbook) (0.5.3)\n",
      "Requirement already satisfied: nbconvert>=6.4.4 in /Users/ssherwood/Repos/jupyter-notebooks/.venv/lib/python3.11/site-packages (from jupyter-server<3,>=2.4.0->notebook>=4.4.1->widgetsnbextension~=3.6.10->ipywidgets<8->fastbook) (7.16.6)\n",
      "Requirement already satisfied: nbformat>=5.3.0 in /Users/ssherwood/Repos/jupyter-notebooks/.venv/lib/python3.11/site-packages (from jupyter-server<3,>=2.4.0->notebook>=4.4.1->widgetsnbextension~=3.6.10->ipywidgets<8->fastbook) (5.10.4)\n",
      "Requirement already satisfied: overrides>=5.0 in /Users/ssherwood/Repos/jupyter-notebooks/.venv/lib/python3.11/site-packages (from jupyter-server<3,>=2.4.0->notebook>=4.4.1->widgetsnbextension~=3.6.10->ipywidgets<8->fastbook) (7.7.0)\n",
      "Requirement already satisfied: prometheus-client>=0.9 in /Users/ssherwood/Repos/jupyter-notebooks/.venv/lib/python3.11/site-packages (from jupyter-server<3,>=2.4.0->notebook>=4.4.1->widgetsnbextension~=3.6.10->ipywidgets<8->fastbook) (0.21.1)\n",
      "Requirement already satisfied: pyzmq>=24 in /Users/ssherwood/Repos/jupyter-notebooks/.venv/lib/python3.11/site-packages (from jupyter-server<3,>=2.4.0->notebook>=4.4.1->widgetsnbextension~=3.6.10->ipywidgets<8->fastbook) (26.2.1)\n",
      "Requirement already satisfied: send2trash>=1.8.2 in /Users/ssherwood/Repos/jupyter-notebooks/.venv/lib/python3.11/site-packages (from jupyter-server<3,>=2.4.0->notebook>=4.4.1->widgetsnbextension~=3.6.10->ipywidgets<8->fastbook) (1.8.3)\n",
      "Requirement already satisfied: terminado>=0.8.3 in /Users/ssherwood/Repos/jupyter-notebooks/.venv/lib/python3.11/site-packages (from jupyter-server<3,>=2.4.0->notebook>=4.4.1->widgetsnbextension~=3.6.10->ipywidgets<8->fastbook) (0.18.1)\n",
      "Requirement already satisfied: websocket-client>=1.7 in /Users/ssherwood/Repos/jupyter-notebooks/.venv/lib/python3.11/site-packages (from jupyter-server<3,>=2.4.0->notebook>=4.4.1->widgetsnbextension~=3.6.10->ipywidgets<8->fastbook) (1.8.0)\n",
      "Requirement already satisfied: async-lru>=1.0.0 in /Users/ssherwood/Repos/jupyter-notebooks/.venv/lib/python3.11/site-packages (from jupyterlab<4.4,>=4.3.4->notebook>=4.4.1->widgetsnbextension~=3.6.10->ipywidgets<8->fastbook) (2.0.4)\n",
      "Requirement already satisfied: httpx>=0.25.0 in /Users/ssherwood/Repos/jupyter-notebooks/.venv/lib/python3.11/site-packages (from jupyterlab<4.4,>=4.3.4->notebook>=4.4.1->widgetsnbextension~=3.6.10->ipywidgets<8->fastbook) (0.28.1)\n",
      "Requirement already satisfied: ipykernel>=6.5.0 in /Users/ssherwood/Repos/jupyter-notebooks/.venv/lib/python3.11/site-packages (from jupyterlab<4.4,>=4.3.4->notebook>=4.4.1->widgetsnbextension~=3.6.10->ipywidgets<8->fastbook) (6.29.5)\n",
      "Requirement already satisfied: jupyter-lsp>=2.0.0 in /Users/ssherwood/Repos/jupyter-notebooks/.venv/lib/python3.11/site-packages (from jupyterlab<4.4,>=4.3.4->notebook>=4.4.1->widgetsnbextension~=3.6.10->ipywidgets<8->fastbook) (2.2.5)\n",
      "Requirement already satisfied: babel>=2.10 in /Users/ssherwood/Repos/jupyter-notebooks/.venv/lib/python3.11/site-packages (from jupyterlab-server<3,>=2.27.1->notebook>=4.4.1->widgetsnbextension~=3.6.10->ipywidgets<8->fastbook) (2.17.0)\n",
      "Requirement already satisfied: json5>=0.9.0 in /Users/ssherwood/Repos/jupyter-notebooks/.venv/lib/python3.11/site-packages (from jupyterlab-server<3,>=2.27.1->notebook>=4.4.1->widgetsnbextension~=3.6.10->ipywidgets<8->fastbook) (0.10.0)\n",
      "Requirement already satisfied: jsonschema>=4.18.0 in /Users/ssherwood/Repos/jupyter-notebooks/.venv/lib/python3.11/site-packages (from jupyterlab-server<3,>=2.27.1->notebook>=4.4.1->widgetsnbextension~=3.6.10->ipywidgets<8->fastbook) (4.23.0)\n",
      "Requirement already satisfied: marisa-trie>=1.1.0 in /Users/ssherwood/Repos/jupyter-notebooks/.venv/lib/python3.11/site-packages (from language-data>=1.2->langcodes<4.0.0,>=3.2.0->spacy<4->fastai>=2.6->fastbook) (1.2.1)\n",
      "Requirement already satisfied: markdown-it-py>=2.2.0 in /Users/ssherwood/Repos/jupyter-notebooks/.venv/lib/python3.11/site-packages (from rich>=10.11.0->typer<1.0.0,>=0.3.0->spacy<4->fastai>=2.6->fastbook) (3.0.0)\n",
      "Requirement already satisfied: wrapt in /Users/ssherwood/Repos/jupyter-notebooks/.venv/lib/python3.11/site-packages (from smart-open<8.0.0,>=5.2.1->weasel<0.5.0,>=0.1.0->spacy<4->fastai>=2.6->fastbook) (1.17.2)\n",
      "Requirement already satisfied: sniffio>=1.1 in /Users/ssherwood/Repos/jupyter-notebooks/.venv/lib/python3.11/site-packages (from anyio>=3.1.0->jupyter-server<3,>=2.4.0->notebook>=4.4.1->widgetsnbextension~=3.6.10->ipywidgets<8->fastbook) (1.3.1)\n",
      "Requirement already satisfied: argon2-cffi-bindings in /Users/ssherwood/Repos/jupyter-notebooks/.venv/lib/python3.11/site-packages (from argon2-cffi>=21.1->jupyter-server<3,>=2.4.0->notebook>=4.4.1->widgetsnbextension~=3.6.10->ipywidgets<8->fastbook) (21.2.0)\n",
      "Requirement already satisfied: httpcore==1.* in /Users/ssherwood/Repos/jupyter-notebooks/.venv/lib/python3.11/site-packages (from httpx>=0.25.0->jupyterlab<4.4,>=4.3.4->notebook>=4.4.1->widgetsnbextension~=3.6.10->ipywidgets<8->fastbook) (1.0.7)\n",
      "Requirement already satisfied: h11<0.15,>=0.13 in /Users/ssherwood/Repos/jupyter-notebooks/.venv/lib/python3.11/site-packages (from httpcore==1.*->httpx>=0.25.0->jupyterlab<4.4,>=4.3.4->notebook>=4.4.1->widgetsnbextension~=3.6.10->ipywidgets<8->fastbook) (0.14.0)\n",
      "Requirement already satisfied: appnope in /Users/ssherwood/Repos/jupyter-notebooks/.venv/lib/python3.11/site-packages (from ipykernel>=6.5.0->jupyterlab<4.4,>=4.3.4->notebook>=4.4.1->widgetsnbextension~=3.6.10->ipywidgets<8->fastbook) (0.1.4)\n",
      "Requirement already satisfied: debugpy>=1.6.5 in /Users/ssherwood/Repos/jupyter-notebooks/.venv/lib/python3.11/site-packages (from ipykernel>=6.5.0->jupyterlab<4.4,>=4.3.4->notebook>=4.4.1->widgetsnbextension~=3.6.10->ipywidgets<8->fastbook) (1.8.12)\n",
      "Requirement already satisfied: nest-asyncio in /Users/ssherwood/Repos/jupyter-notebooks/.venv/lib/python3.11/site-packages (from ipykernel>=6.5.0->jupyterlab<4.4,>=4.3.4->notebook>=4.4.1->widgetsnbextension~=3.6.10->ipywidgets<8->fastbook) (1.6.0)\n",
      "Requirement already satisfied: psutil in /Users/ssherwood/Repos/jupyter-notebooks/.venv/lib/python3.11/site-packages (from ipykernel>=6.5.0->jupyterlab<4.4,>=4.3.4->notebook>=4.4.1->widgetsnbextension~=3.6.10->ipywidgets<8->fastbook) (7.0.0)\n",
      "Requirement already satisfied: jsonschema-specifications>=2023.03.6 in /Users/ssherwood/Repos/jupyter-notebooks/.venv/lib/python3.11/site-packages (from jsonschema>=4.18.0->jupyterlab-server<3,>=2.27.1->notebook>=4.4.1->widgetsnbextension~=3.6.10->ipywidgets<8->fastbook) (2024.10.1)\n",
      "Requirement already satisfied: referencing>=0.28.4 in /Users/ssherwood/Repos/jupyter-notebooks/.venv/lib/python3.11/site-packages (from jsonschema>=4.18.0->jupyterlab-server<3,>=2.27.1->notebook>=4.4.1->widgetsnbextension~=3.6.10->ipywidgets<8->fastbook) (0.36.2)\n",
      "Requirement already satisfied: rpds-py>=0.7.1 in /Users/ssherwood/Repos/jupyter-notebooks/.venv/lib/python3.11/site-packages (from jsonschema>=4.18.0->jupyterlab-server<3,>=2.27.1->notebook>=4.4.1->widgetsnbextension~=3.6.10->ipywidgets<8->fastbook) (0.23.1)\n",
      "Requirement already satisfied: platformdirs>=2.5 in /Users/ssherwood/Repos/jupyter-notebooks/.venv/lib/python3.11/site-packages (from jupyter-core!=5.0.*,>=4.12->jupyter-server<3,>=2.4.0->notebook>=4.4.1->widgetsnbextension~=3.6.10->ipywidgets<8->fastbook) (4.3.6)\n",
      "Requirement already satisfied: python-json-logger>=2.0.4 in /Users/ssherwood/Repos/jupyter-notebooks/.venv/lib/python3.11/site-packages (from jupyter-events>=0.11.0->jupyter-server<3,>=2.4.0->notebook>=4.4.1->widgetsnbextension~=3.6.10->ipywidgets<8->fastbook) (3.2.1)\n",
      "Requirement already satisfied: rfc3339-validator in /Users/ssherwood/Repos/jupyter-notebooks/.venv/lib/python3.11/site-packages (from jupyter-events>=0.11.0->jupyter-server<3,>=2.4.0->notebook>=4.4.1->widgetsnbextension~=3.6.10->ipywidgets<8->fastbook) (0.1.4)\n",
      "Requirement already satisfied: rfc3986-validator>=0.1.1 in /Users/ssherwood/Repos/jupyter-notebooks/.venv/lib/python3.11/site-packages (from jupyter-events>=0.11.0->jupyter-server<3,>=2.4.0->notebook>=4.4.1->widgetsnbextension~=3.6.10->ipywidgets<8->fastbook) (0.1.1)\n",
      "Requirement already satisfied: mdurl~=0.1 in /Users/ssherwood/Repos/jupyter-notebooks/.venv/lib/python3.11/site-packages (from markdown-it-py>=2.2.0->rich>=10.11.0->typer<1.0.0,>=0.3.0->spacy<4->fastai>=2.6->fastbook) (0.1.2)\n",
      "Requirement already satisfied: beautifulsoup4 in /Users/ssherwood/Repos/jupyter-notebooks/.venv/lib/python3.11/site-packages (from nbconvert>=6.4.4->jupyter-server<3,>=2.4.0->notebook>=4.4.1->widgetsnbextension~=3.6.10->ipywidgets<8->fastbook) (4.13.3)\n",
      "Requirement already satisfied: bleach!=5.0.0 in /Users/ssherwood/Repos/jupyter-notebooks/.venv/lib/python3.11/site-packages (from bleach[css]!=5.0.0->nbconvert>=6.4.4->jupyter-server<3,>=2.4.0->notebook>=4.4.1->widgetsnbextension~=3.6.10->ipywidgets<8->fastbook) (6.2.0)\n",
      "Requirement already satisfied: defusedxml in /Users/ssherwood/Repos/jupyter-notebooks/.venv/lib/python3.11/site-packages (from nbconvert>=6.4.4->jupyter-server<3,>=2.4.0->notebook>=4.4.1->widgetsnbextension~=3.6.10->ipywidgets<8->fastbook) (0.7.1)\n",
      "Requirement already satisfied: jupyterlab-pygments in /Users/ssherwood/Repos/jupyter-notebooks/.venv/lib/python3.11/site-packages (from nbconvert>=6.4.4->jupyter-server<3,>=2.4.0->notebook>=4.4.1->widgetsnbextension~=3.6.10->ipywidgets<8->fastbook) (0.3.0)\n",
      "Requirement already satisfied: mistune<4,>=2.0.3 in /Users/ssherwood/Repos/jupyter-notebooks/.venv/lib/python3.11/site-packages (from nbconvert>=6.4.4->jupyter-server<3,>=2.4.0->notebook>=4.4.1->widgetsnbextension~=3.6.10->ipywidgets<8->fastbook) (3.1.2)\n",
      "Requirement already satisfied: nbclient>=0.5.0 in /Users/ssherwood/Repos/jupyter-notebooks/.venv/lib/python3.11/site-packages (from nbconvert>=6.4.4->jupyter-server<3,>=2.4.0->notebook>=4.4.1->widgetsnbextension~=3.6.10->ipywidgets<8->fastbook) (0.10.2)\n",
      "Requirement already satisfied: pandocfilters>=1.4.1 in /Users/ssherwood/Repos/jupyter-notebooks/.venv/lib/python3.11/site-packages (from nbconvert>=6.4.4->jupyter-server<3,>=2.4.0->notebook>=4.4.1->widgetsnbextension~=3.6.10->ipywidgets<8->fastbook) (1.5.1)\n",
      "Requirement already satisfied: fastjsonschema>=2.15 in /Users/ssherwood/Repos/jupyter-notebooks/.venv/lib/python3.11/site-packages (from nbformat>=5.3.0->jupyter-server<3,>=2.4.0->notebook>=4.4.1->widgetsnbextension~=3.6.10->ipywidgets<8->fastbook) (2.21.1)\n",
      "Requirement already satisfied: webencodings in /Users/ssherwood/Repos/jupyter-notebooks/.venv/lib/python3.11/site-packages (from bleach!=5.0.0->bleach[css]!=5.0.0->nbconvert>=6.4.4->jupyter-server<3,>=2.4.0->notebook>=4.4.1->widgetsnbextension~=3.6.10->ipywidgets<8->fastbook) (0.5.1)\n",
      "Requirement already satisfied: tinycss2<1.5,>=1.1.0 in /Users/ssherwood/Repos/jupyter-notebooks/.venv/lib/python3.11/site-packages (from bleach[css]!=5.0.0->nbconvert>=6.4.4->jupyter-server<3,>=2.4.0->notebook>=4.4.1->widgetsnbextension~=3.6.10->ipywidgets<8->fastbook) (1.4.0)\n",
      "Requirement already satisfied: fqdn in /Users/ssherwood/Repos/jupyter-notebooks/.venv/lib/python3.11/site-packages (from jsonschema[format-nongpl]>=4.18.0->jupyter-events>=0.11.0->jupyter-server<3,>=2.4.0->notebook>=4.4.1->widgetsnbextension~=3.6.10->ipywidgets<8->fastbook) (1.5.1)\n",
      "Requirement already satisfied: isoduration in /Users/ssherwood/Repos/jupyter-notebooks/.venv/lib/python3.11/site-packages (from jsonschema[format-nongpl]>=4.18.0->jupyter-events>=0.11.0->jupyter-server<3,>=2.4.0->notebook>=4.4.1->widgetsnbextension~=3.6.10->ipywidgets<8->fastbook) (20.11.0)\n",
      "Requirement already satisfied: jsonpointer>1.13 in /Users/ssherwood/Repos/jupyter-notebooks/.venv/lib/python3.11/site-packages (from jsonschema[format-nongpl]>=4.18.0->jupyter-events>=0.11.0->jupyter-server<3,>=2.4.0->notebook>=4.4.1->widgetsnbextension~=3.6.10->ipywidgets<8->fastbook) (3.0.0)\n",
      "Requirement already satisfied: uri-template in /Users/ssherwood/Repos/jupyter-notebooks/.venv/lib/python3.11/site-packages (from jsonschema[format-nongpl]>=4.18.0->jupyter-events>=0.11.0->jupyter-server<3,>=2.4.0->notebook>=4.4.1->widgetsnbextension~=3.6.10->ipywidgets<8->fastbook) (1.3.0)\n",
      "Requirement already satisfied: webcolors>=24.6.0 in /Users/ssherwood/Repos/jupyter-notebooks/.venv/lib/python3.11/site-packages (from jsonschema[format-nongpl]>=4.18.0->jupyter-events>=0.11.0->jupyter-server<3,>=2.4.0->notebook>=4.4.1->widgetsnbextension~=3.6.10->ipywidgets<8->fastbook) (24.11.1)\n",
      "Requirement already satisfied: cffi>=1.0.1 in /Users/ssherwood/Repos/jupyter-notebooks/.venv/lib/python3.11/site-packages (from argon2-cffi-bindings->argon2-cffi>=21.1->jupyter-server<3,>=2.4.0->notebook>=4.4.1->widgetsnbextension~=3.6.10->ipywidgets<8->fastbook) (1.17.1)\n",
      "Requirement already satisfied: soupsieve>1.2 in /Users/ssherwood/Repos/jupyter-notebooks/.venv/lib/python3.11/site-packages (from beautifulsoup4->nbconvert>=6.4.4->jupyter-server<3,>=2.4.0->notebook>=4.4.1->widgetsnbextension~=3.6.10->ipywidgets<8->fastbook) (2.6)\n",
      "Requirement already satisfied: pycparser in /Users/ssherwood/Repos/jupyter-notebooks/.venv/lib/python3.11/site-packages (from cffi>=1.0.1->argon2-cffi-bindings->argon2-cffi>=21.1->jupyter-server<3,>=2.4.0->notebook>=4.4.1->widgetsnbextension~=3.6.10->ipywidgets<8->fastbook) (2.22)\n",
      "Requirement already satisfied: arrow>=0.15.0 in /Users/ssherwood/Repos/jupyter-notebooks/.venv/lib/python3.11/site-packages (from isoduration->jsonschema[format-nongpl]>=4.18.0->jupyter-events>=0.11.0->jupyter-server<3,>=2.4.0->notebook>=4.4.1->widgetsnbextension~=3.6.10->ipywidgets<8->fastbook) (1.3.0)\n",
      "Requirement already satisfied: types-python-dateutil>=2.8.10 in /Users/ssherwood/Repos/jupyter-notebooks/.venv/lib/python3.11/site-packages (from arrow>=0.15.0->isoduration->jsonschema[format-nongpl]>=4.18.0->jupyter-events>=0.11.0->jupyter-server<3,>=2.4.0->notebook>=4.4.1->widgetsnbextension~=3.6.10->ipywidgets<8->fastbook) (2.9.0.20241206)\n"
     ]
    }
   ],
   "source": [
    "!pip install utils fastbook torch torchvision torchaudio \"numpy<2.0\""
   ]
  },
  {
   "cell_type": "code",
   "execution_count": 1,
   "id": "9807dbce-ec2e-4742-8fd1-456ae92f1861",
   "metadata": {},
   "outputs": [],
   "source": [
    "import torch"
   ]
  },
  {
   "cell_type": "code",
   "execution_count": 1,
   "id": "150f3f84-43a2-45bb-afab-1265cecab21d",
   "metadata": {},
   "outputs": [],
   "source": [
    "import torch\n",
    "import matplotlib.pyplot as plt\n",
    "\n",
    "def plot_function(f, title=None, min=-2.1, max=2.1, color='r', ylim=None):\n",
    "    x = torch.linspace(min,max, 100)[:,None]\n",
    "    if ylim:\n",
    "        plt.ylim(ylim)\n",
    "    plt.plot(x, f(x), color)\n",
    "    if title is not None:\n",
    "        plt.title(title)"
   ]
  },
  {
   "cell_type": "markdown",
   "id": "3461465d-f9fa-43c0-9f43-1618900bd604",
   "metadata": {},
   "source": [
    "# How do we fit a function to data?"
   ]
  },
  {
   "cell_type": "code",
   "execution_count": 171,
   "id": "296eca0f-5f4a-4715-a394-7c1d95f4411d",
   "metadata": {},
   "outputs": [
    {
     "data": {
      "image/png": "[encoded data removed]",
      "text/plain": [
       "<Figure size 640x480 with 1 Axes>"
      ]
     },
     "metadata": {},
     "output_type": "display_data"
    }
   ],
   "source": [
    "def f(x):\n",
    "    return 3*x**2 + 2*x + 1\n",
    "\n",
    "plot_function(f, \"$3x^2 + 2x + 1$\")"
   ]
  },
  {
   "cell_type": "code",
   "execution_count": 172,
   "id": "400435cb-ee3f-4b4a-b034-0a98aab8269a",
   "metadata": {},
   "outputs": [],
   "source": [
    "def quad(a, b, c, x):\n",
    "    return a*x**2 + b*x + c"
   ]
  },
  {
   "cell_type": "code",
   "execution_count": 173,
   "id": "ef1632a4-1ea8-44ff-9a54-5db6ed5f2c68",
   "metadata": {},
   "outputs": [
    {
     "data": {
      "text/plain": [
       "10.75"
      ]
     },
     "execution_count": 173,
     "metadata": {},
     "output_type": "execute_result"
    }
   ],
   "source": [
    "quad(3, 2, 1, 1.5)"
   ]
  },
  {
   "cell_type": "code",
   "execution_count": 174,
   "id": "b77c86a9-dab7-4b19-99b8-807c005a943b",
   "metadata": {},
   "outputs": [],
   "source": [
    "from functools import partial\n",
    "\n",
    "def make_quad(a, b, c):\n",
    "    return partial(quad, a, b, c)"
   ]
  },
  {
   "cell_type": "code",
   "execution_count": 177,
   "id": "663f44b3-3042-46cf-9123-33d46486d5d0",
   "metadata": {},
   "outputs": [
    {
     "data": {
      "text/plain": [
       "10.75"
      ]
     },
     "execution_count": 177,
     "metadata": {},
     "output_type": "execute_result"
    }
   ],
   "source": [
    "f = make_quad(3, 2, 1)\n",
    "f(1.5)"
   ]
  },
  {
   "cell_type": "code",
   "execution_count": 178,
   "id": "1bddc235-61c5-4cba-b0c7-c0ccc550134b",
   "metadata": {},
   "outputs": [
    {
     "data": {
      "image/png": "[encoded data removed]",
      "text/plain": [
       "<Figure size 640x480 with 1 Axes>"
      ]
     },
     "metadata": {},
     "output_type": "display_data"
    }
   ],
   "source": [
    "plot_function(f)"
   ]
  },
  {
   "cell_type": "code",
   "execution_count": 179,
   "id": "d894421c-a63f-4e74-8277-7f4cc382fae9",
   "metadata": {},
   "outputs": [],
   "source": [
    "import numpy as np\n",
    "from numpy.random import normal, seed, uniform"
   ]
  },
  {
   "cell_type": "code",
   "execution_count": 180,
   "id": "45deb182-80d1-4737-9a1e-b75d9bcaf786",
   "metadata": {},
   "outputs": [],
   "source": [
    "np.random.seed(42)\n",
    "\n",
    "def noise(x, scale):\n",
    "    return normal(scale=scale, size=x.shape)\n",
    "\n",
    "def add_noise(x, mult, add):\n",
    "    return x * (1 + noise(x, mult)) + noise(x, add)"
   ]
  },
  {
   "cell_type": "code",
   "execution_count": 181,
   "id": "e651bca3-4ef1-4015-9f57-142f5e302a05",
   "metadata": {},
   "outputs": [
    {
     "data": {
      "text/plain": [
       "<matplotlib.collections.PathCollection at 0x121138550>"
      ]
     },
     "execution_count": 181,
     "metadata": {},
     "output_type": "execute_result"
    },
    {
     "data": {
      "image/png": "[encoded data removed]",
      "text/plain": [
       "<Figure size 640x480 with 1 Axes>"
      ]
     },
     "metadata": {},
     "output_type": "display_data"
    }
   ],
   "source": [
    "x = torch.linspace(-2, 2, steps=20)[:,None].numpy()\n",
    "y = add_noise(f(x), 0.3, 1.5)\n",
    "plt.scatter(x, y)"
   ]
  },
  {
   "cell_type": "code",
   "execution_count": 182,
   "id": "9fa07060-f436-4e4f-aaf4-2714828a6b91",
   "metadata": {},
   "outputs": [
    {
     "data": {
      "text/plain": [
       "array([[10.27509841],\n",
       "       [ 7.11050944],\n",
       "       [ 3.47720634],\n",
       "       [ 1.73601183],\n",
       "       [ 2.72473106],\n",
       "       [ 3.44390661],\n",
       "       [ 0.88748113],\n",
       "       [ 2.53054982],\n",
       "       [ 1.2788629 ],\n",
       "       [-0.58010863],\n",
       "       [ 1.90678618],\n",
       "       [ 4.01475368],\n",
       "       [ 2.24431428],\n",
       "       [ 7.20227813],\n",
       "       [ 3.38577764],\n",
       "       [10.62090953],\n",
       "       [ 7.12998517],\n",
       "       [10.10910588],\n",
       "       [15.73298634],\n",
       "       [18.99392678]])"
      ]
     },
     "execution_count": 182,
     "metadata": {},
     "output_type": "execute_result"
    }
   ],
   "source": [
    "add_noise(f(x), 0.3, 1.5)"
   ]
  },
  {
   "cell_type": "code",
   "execution_count": 183,
   "id": "db8cf6be-d546-4eb7-bbfd-e329a0946591",
   "metadata": {},
   "outputs": [
    {
     "data": {
      "text/plain": [
       "(array([[-2.       ],\n",
       "        [-1.7894737],\n",
       "        [-1.5789473],\n",
       "        [-1.3684211],\n",
       "        [-1.1578947]], dtype=float32),\n",
       " array([[12.53960137],\n",
       "        [ 6.39753195],\n",
       "        [ 6.45659116],\n",
       "        [ 3.5169761 ],\n",
       "        [ 1.69968521]]))"
      ]
     },
     "execution_count": 183,
     "metadata": {},
     "output_type": "execute_result"
    }
   ],
   "source": [
    "x[:5],y[:5]"
   ]
  },
  {
   "cell_type": "code",
   "execution_count": 184,
   "id": "53982f5c-a38d-4413-888e-bdfd0d1f2d12",
   "metadata": {},
   "outputs": [
    {
     "data": {
      "text/plain": [
       "<matplotlib.collections.PathCollection at 0x13f165d10>"
      ]
     },
     "execution_count": 184,
     "metadata": {},
     "output_type": "execute_result"
    },
    {
     "data": {
      "image/png": "[encoded data removed]",
      "text/plain": [
       "<Figure size 640x480 with 1 Axes>"
      ]
     },
     "metadata": {},
     "output_type": "display_data"
    }
   ],
   "source": [
    "plt.scatter(x,y)"
   ]
  },
  {
   "cell_type": "code",
   "execution_count": 17,
   "id": "d19d3fae-a3c5-4a4a-af88-364de2014326",
   "metadata": {},
   "outputs": [
    {
     "data": {
      "application/vnd.jupyter.widget-view+json": {
       "model_id": "d547fee984f54759819e249bbb079979",
       "version_major": 2,
       "version_minor": 0
      },
      "text/plain": [
       "interactive(children=(FloatSlider(value=1.1, description='a', max=3.3000000000000003, min=-1.1), FloatSlider(v…"
      ]
     },
     "metadata": {},
     "output_type": "display_data"
    }
   ],
   "source": [
    "from ipywidgets import interact, interactive, fixed, interact_manual\n",
    "\n",
    "@interact(a=1.1, b=1.1, c=1.1)\n",
    "def plot_quad(a, b, c):\n",
    "    plt.scatter(x,y)\n",
    "    plot_function(make_quad(a,b,c), ylim=(-3,13))"
   ]
  },
  {
   "cell_type": "code",
   "execution_count": 185,
   "id": "ef1d4f75-0e35-488b-a4c2-46868f6286ae",
   "metadata": {},
   "outputs": [],
   "source": [
    "import numpy\n",
    "\n",
    "def mae(preds, acts):\n",
    "    return (torch.abs(preds-acts)).mean()"
   ]
  },
  {
   "cell_type": "code",
   "execution_count": 42,
   "id": "fed15fd4-b737-41e2-954b-083a549aa679",
   "metadata": {},
   "outputs": [
    {
     "data": {
      "application/vnd.jupyter.widget-view+json": {
       "model_id": "6ee0d1d78453414bb222046de318f7fe",
       "version_major": 2,
       "version_minor": 0
      },
      "text/plain": [
       "interactive(children=(FloatSlider(value=1.1, description='a', max=3.3000000000000003, min=-1.1), FloatSlider(v…"
      ]
     },
     "metadata": {},
     "output_type": "display_data"
    }
   ],
   "source": [
    "@interact(a=1.1, b=1.1, c=1.1)\n",
    "def plot_quad(a, b, c):\n",
    "    f = make_quad(a,b,c)\n",
    "    plt.scatter(x,y)\n",
    "    loss = mae(f(x), y)\n",
    "    plot_function(f, ylim=(-3,12), title=f\"MAE: {loss:.2f}\")"
   ]
  },
  {
   "cell_type": "code",
   "execution_count": 186,
   "id": "084a0919-b4f9-4278-8781-48fbc2dfe34b",
   "metadata": {},
   "outputs": [],
   "source": [
    "a = torch.tensor(1.0, requires_grad=True)\n",
    "b = torch.tensor(2.0, requires_grad=True)\n",
    "c = torch.tensor(3.0, requires_grad=True)\n",
    "\n",
    "f = make_quad(a, b, c)\n",
    "\n",
    "xt = torch.from_numpy(x).clone().requires_grad_(True)\n",
    "yt = torch.from_numpy(y).clone().requires_grad_(True)\n",
    "\n",
    "def quad_mae(params):\n",
    "    f = make_quad(*params)\n",
    "    return mae(f(xt), yt)"
   ]
  },
  {
   "cell_type": "code",
   "execution_count": 131,
   "id": "2c8fd2f1-5c5b-4b98-8e7a-74dd42b29254",
   "metadata": {},
   "outputs": [
    {
     "ename": "RuntimeError",
     "evalue": "Can't call numpy() on Tensor that requires grad. Use tensor.detach().numpy() instead.",
     "output_type": "error",
     "traceback": [
      "\u001b[31m---------------------------------------------------------------------------\u001b[39m",
      "\u001b[31mRuntimeError\u001b[39m                              Traceback (most recent call last)",
      "\u001b[36mCell\u001b[39m\u001b[36m \u001b[39m\u001b[32mIn[131]\u001b[39m\u001b[32m, line 1\u001b[39m\n\u001b[32m----> \u001b[39m\u001b[32m1\u001b[39m \u001b[43mquad_mae\u001b[49m\u001b[43m(\u001b[49m\u001b[43m[\u001b[49m\u001b[32;43m1.1\u001b[39;49m\u001b[43m,\u001b[49m\u001b[43m \u001b[49m\u001b[32;43m1.1\u001b[39;49m\u001b[43m,\u001b[49m\u001b[43m \u001b[49m\u001b[32;43m1.1\u001b[39;49m\u001b[43m]\u001b[49m\u001b[43m)\u001b[49m\n",
      "\u001b[36mCell\u001b[39m\u001b[36m \u001b[39m\u001b[32mIn[130]\u001b[39m\u001b[32m, line 11\u001b[39m, in \u001b[36mquad_mae\u001b[39m\u001b[34m(params)\u001b[39m\n\u001b[32m      9\u001b[39m \u001b[38;5;28;01mdef\u001b[39;00m\u001b[38;5;250m \u001b[39m\u001b[34mquad_mae\u001b[39m(params):\n\u001b[32m     10\u001b[39m     f = make_quad(*params)\n\u001b[32m---> \u001b[39m\u001b[32m11\u001b[39m     \u001b[38;5;28;01mreturn\u001b[39;00m \u001b[43mmae\u001b[49m\u001b[43m(\u001b[49m\u001b[43mf\u001b[49m\u001b[43m(\u001b[49m\u001b[43mxt\u001b[49m\u001b[43m)\u001b[49m\u001b[43m,\u001b[49m\u001b[43m \u001b[49m\u001b[43my\u001b[49m\u001b[43m)\u001b[49m\n",
      "\u001b[36mCell\u001b[39m\u001b[36m \u001b[39m\u001b[32mIn[41]\u001b[39m\u001b[32m, line 4\u001b[39m, in \u001b[36mmae\u001b[39m\u001b[34m(preds, acts)\u001b[39m\n\u001b[32m      3\u001b[39m \u001b[38;5;28;01mdef\u001b[39;00m\u001b[38;5;250m \u001b[39m\u001b[34mmae\u001b[39m(preds, acts):\n\u001b[32m----> \u001b[39m\u001b[32m4\u001b[39m     \u001b[38;5;28;01mreturn\u001b[39;00m (torch.abs(torch.from_numpy(\u001b[43mpreds\u001b[49m\u001b[43m-\u001b[49m\u001b[43macts\u001b[49m))).mean()\n",
      "\u001b[36mFile \u001b[39m\u001b[32m~/Repos/jupyter-notebooks/.venv/lib/python3.11/site-packages/torch/_tensor.py:1062\u001b[39m, in \u001b[36mTensor.__array__\u001b[39m\u001b[34m(self, dtype)\u001b[39m\n\u001b[32m   1060\u001b[39m     \u001b[38;5;28;01mreturn\u001b[39;00m handle_torch_function(Tensor.__array__, (\u001b[38;5;28mself\u001b[39m,), \u001b[38;5;28mself\u001b[39m, dtype=dtype)\n\u001b[32m   1061\u001b[39m \u001b[38;5;28;01mif\u001b[39;00m dtype \u001b[38;5;129;01mis\u001b[39;00m \u001b[38;5;28;01mNone\u001b[39;00m:\n\u001b[32m-> \u001b[39m\u001b[32m1062\u001b[39m     \u001b[38;5;28;01mreturn\u001b[39;00m \u001b[38;5;28;43mself\u001b[39;49m\u001b[43m.\u001b[49m\u001b[43mnumpy\u001b[49m\u001b[43m(\u001b[49m\u001b[43m)\u001b[49m\n\u001b[32m   1063\u001b[39m \u001b[38;5;28;01melse\u001b[39;00m:\n\u001b[32m   1064\u001b[39m     \u001b[38;5;28;01mreturn\u001b[39;00m \u001b[38;5;28mself\u001b[39m.numpy().astype(dtype, copy=\u001b[38;5;28;01mFalse\u001b[39;00m)\n",
      "\u001b[31mRuntimeError\u001b[39m: Can't call numpy() on Tensor that requires grad. Use tensor.detach().numpy() instead."
     ]
    }
   ],
   "source": [
    "quad_mae([1.1, 1.1, 1.1])"
   ]
  },
  {
   "cell_type": "code",
   "execution_count": 187,
   "id": "52fa8b6c-b0d5-4786-a639-e7876ee7ce00",
   "metadata": {},
   "outputs": [],
   "source": [
    "abc = torch.tensor([1.1,1.1,1.1], requires_grad=True)"
   ]
  },
  {
   "cell_type": "code",
   "execution_count": 162,
   "id": "70099827-b865-425b-bf6f-7f1405fa7531",
   "metadata": {},
   "outputs": [
    {
     "data": {
      "text/plain": [
       "tensor([[ 3.0000],\n",
       "        [ 2.6233],\n",
       "        [ 2.3352],\n",
       "        [ 2.1357],\n",
       "        [ 2.0249],\n",
       "        [ 2.0028],\n",
       "        [ 2.0693],\n",
       "        [ 2.2244],\n",
       "        [ 2.4681],\n",
       "        [ 2.8006],\n",
       "        [ 3.2216],\n",
       "        [ 3.7313],\n",
       "        [ 4.3296],\n",
       "        [ 5.0166],\n",
       "        [ 5.7922],\n",
       "        [ 6.6565],\n",
       "        [ 7.6094],\n",
       "        [ 8.6510],\n",
       "        [ 9.7812],\n",
       "        [11.0000]], grad_fn=<AddBackward0>)"
      ]
     },
     "execution_count": 162,
     "metadata": {},
     "output_type": "execute_result"
    }
   ],
   "source": [
    "#abc.requires_grad_()\n",
    "f(xt)"
   ]
  },
  {
   "cell_type": "code",
   "execution_count": 188,
   "id": "eec0a0ab-4572-4195-8b25-48ebeca3e286",
   "metadata": {},
   "outputs": [
    {
     "data": {
      "text/plain": [
       "tensor(2.1383, dtype=torch.float64, grad_fn=<MeanBackward0>)"
      ]
     },
     "execution_count": 188,
     "metadata": {},
     "output_type": "execute_result"
    }
   ],
   "source": [
    "loss = quad_mae(abc)\n",
    "loss"
   ]
  },
  {
   "cell_type": "code",
   "execution_count": 189,
   "id": "d2332443-ab09-466e-9570-e1956ad82df8",
   "metadata": {},
   "outputs": [],
   "source": [
    "loss.backward()"
   ]
  },
  {
   "cell_type": "code",
   "execution_count": 190,
   "id": "548ee950-708f-4362-8eea-44ceebb84b8c",
   "metadata": {},
   "outputs": [
    {
     "data": {
      "text/plain": [
       "tensor([-1.3529, -0.0316, -0.5000])"
      ]
     },
     "execution_count": 190,
     "metadata": {},
     "output_type": "execute_result"
    }
   ],
   "source": [
    "abc.grad"
   ]
  },
  {
   "cell_type": "code",
   "execution_count": 191,
   "id": "aedcb8ef-6fd8-4779-8cc0-2f1e801688fa",
   "metadata": {},
   "outputs": [
    {
     "name": "stdout",
     "output_type": "stream",
     "text": [
      "loss=2.12\n"
     ]
    }
   ],
   "source": [
    "with torch.no_grad():\n",
    "    abc -= abc.grad*0.01\n",
    "    loss = quad_mae(abc)\n",
    "    \n",
    "print(f'loss={loss:.2f}')"
   ]
  },
  {
   "cell_type": "code",
   "execution_count": 196,
   "id": "49532305-4bcb-4ef2-a7bb-91f9a2e89052",
   "metadata": {},
   "outputs": [
    {
     "name": "stdout",
     "output_type": "stream",
     "text": [
      "step=0; loss=1.73\n",
      "step=1; loss=1.71\n",
      "step=2; loss=1.70\n",
      "step=3; loss=1.69\n",
      "step=4; loss=1.68\n",
      "step=5; loss=1.66\n",
      "step=6; loss=1.65\n",
      "step=7; loss=1.64\n",
      "step=8; loss=1.63\n",
      "step=9; loss=1.61\n"
     ]
    }
   ],
   "source": [
    "for i in range(10):\n",
    "    loss = quad_mae(abc)\n",
    "    abc.grad.data.zero_()\n",
    "    loss.backward()\n",
    "    with torch.no_grad():\n",
    "        abc -= abc.grad*0.01\n",
    "    print(f'step={i}; loss={loss:.2f}')"
   ]
  },
  {
   "cell_type": "code",
   "execution_count": 197,
   "id": "365e2948-59c4-4cde-b8f2-b0d2db340692",
   "metadata": {},
   "outputs": [
    {
     "data": {
      "text/plain": [
       "tensor([-1.0848, -0.0316, -0.3000])"
      ]
     },
     "execution_count": 197,
     "metadata": {},
     "output_type": "execute_result"
    }
   ],
   "source": [
    "abc.grad"
   ]
  },
  {
   "cell_type": "code",
   "execution_count": null,
   "id": "0d394bfb-7dfc-4467-8fe9-88056cfaec4d",
   "metadata": {},
   "outputs": [],
   "source": []
  }
 ],
 "metadata": {
  "kernelspec": {
   "display_name": "Python 3 (ipykernel)",
   "language": "python",
   "name": "python3"
  },
  "language_info": {
   "codemirror_mode": {
    "name": "ipython",
    "version": 3
   },
   "file_extension": ".py",
   "mimetype": "text/x-python",
   "name": "python",
   "nbconvert_exporter": "python",
   "pygments_lexer": "ipython3",
   "version": "3.11.11"
  }
 },
 "nbformat": 4,
 "nbformat_minor": 5
}
