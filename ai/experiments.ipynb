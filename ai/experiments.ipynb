{
 "cells": [
  {
   "cell_type": "code",
   "execution_count": null,
   "id": "a7820bda-c4fa-40d9-84be-5d3fe8634bdf",
   "metadata": {},
   "outputs": [],
   "source": [
    "!pip install utils fastbook"
   ]
  },
  {
   "cell_type": "code",
   "execution_count": null,
   "id": "150f3f84-43a2-45bb-afab-1265cecab21d",
   "metadata": {},
   "outputs": [],
   "source": [
    "import torch\n",
    "import matplotlib.pyplot as plt\n",
    "\n",
    "def plot_function(f, title=None, min=-2.1, max=2.1, color='r', ylim=None):\n",
    "    x = torch.linspace(min,max, 100)[:,None]\n",
    "    if ylim: plt.ylim(ylim)\n",
    "    plt.plot(x, f(x), color)\n",
    "    if title is not None: plt.title(title)"
   ]
  },
  {
   "cell_type": "markdown",
   "id": "3461465d-f9fa-43c0-9f43-1618900bd604",
   "metadata": {},
   "source": [
    "# How do we fit a function to data?"
   ]
  },
  {
   "cell_type": "code",
   "execution_count": null,
   "id": "296eca0f-5f4a-4715-a394-7c1d95f4411d",
   "metadata": {},
   "outputs": [],
   "source": [
    "def f(x):\n",
    "    return 3*x**2 + 2*x + 1\n",
    "\n",
    "plot_function(f, \"$3x^2 + 2x + 1$\")"
   ]
  },
  {
   "cell_type": "code",
   "execution_count": null,
   "id": "400435cb-ee3f-4b4a-b034-0a98aab8269a",
   "metadata": {},
   "outputs": [],
   "source": [
    "def quad(a, b, c, x):\n",
    "    return a*x**2 + b*x + c"
   ]
  },
  {
   "cell_type": "code",
   "execution_count": null,
   "id": "ef1632a4-1ea8-44ff-9a54-5db6ed5f2c68",
   "metadata": {},
   "outputs": [],
   "source": [
    "quad(3, 2, 1, 1.5)"
   ]
  },
  {
   "cell_type": "code",
   "execution_count": null,
   "id": "b77c86a9-dab7-4b19-99b8-807c005a943b",
   "metadata": {},
   "outputs": [],
   "source": [
    "from functools import partial\n",
    "\n",
    "def make_quad(a, b, c):\n",
    "    return partial(quad, a, b, c)"
   ]
  },
  {
   "cell_type": "code",
   "execution_count": null,
   "id": "663f44b3-3042-46cf-9123-33d46486d5d0",
   "metadata": {},
   "outputs": [],
   "source": [
    "f = make_quad(3, 2, 1)\n",
    "f(1.5)"
   ]
  },
  {
   "cell_type": "code",
   "execution_count": null,
   "id": "1bddc235-61c5-4cba-b0c7-c0ccc550134b",
   "metadata": {},
   "outputs": [],
   "source": [
    "plot_function(f)"
   ]
  },
  {
   "cell_type": "code",
   "execution_count": null,
   "id": "d894421c-a63f-4e74-8277-7f4cc382fae9",
   "metadata": {},
   "outputs": [],
   "source": [
    "import numpy as np\n",
    "from numpy.random import normal, seed, uniform"
   ]
  },
  {
   "cell_type": "code",
   "execution_count": null,
   "id": "45deb182-80d1-4737-9a1e-b75d9bcaf786",
   "metadata": {},
   "outputs": [],
   "source": [
    "np.random.seed(42)\n",
    "\n",
    "def noise(x, scale):\n",
    "    return normal(scale=scale, size=x.shape)\n",
    "\n",
    "def add_noise(x, mult, add):\n",
    "    return x * (1 + noise(x, mult)) + noise(x, add)"
   ]
  },
  {
   "cell_type": "code",
   "execution_count": null,
   "id": "e651bca3-4ef1-4015-9f57-142f5e302a05",
   "metadata": {},
   "outputs": [],
   "source": [
    "x = torch.linspace(-2, 2, steps=20)[:,None].numpy()\n",
    "y = add_noise(f(x), 0.3, 1.5)\n",
    "plt.scatter(x, y)"
   ]
  },
  {
   "cell_type": "code",
   "execution_count": null,
   "id": "9fa07060-f436-4e4f-aaf4-2714828a6b91",
   "metadata": {},
   "outputs": [],
   "source": [
    "add_noise(f(x), 0.3, 1.5)"
   ]
  },
  {
   "cell_type": "code",
   "execution_count": null,
   "id": "db8cf6be-d546-4eb7-bbfd-e329a0946591",
   "metadata": {},
   "outputs": [],
   "source": []
  }
 ],
 "metadata": {
  "language_info": {
   "name": "python"
  }
 },
 "nbformat": 4,
 "nbformat_minor": 5
}
