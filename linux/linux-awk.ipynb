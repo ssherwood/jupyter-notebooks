{
 "cells": [
  {
   "cell_type": "markdown",
   "id": "3b34ced5-530c-4c5f-bef4-7337629232b6",
   "metadata": {},
   "source": [
    "# Awk\n",
    "\n",
    "Notebook for `awk` and its various features. Awk is good for text processing and data extraction from text files and data streams."
   ]
  },
  {
   "cell_type": "code",
   "execution_count": null,
   "id": "666f818b-1869-4886-beac-b1c8ae58cc99",
   "metadata": {},
   "outputs": [],
   "source": [
    "awk"
   ]
  },
  {
   "cell_type": "markdown",
   "id": "eb0b1b48-4749-40b5-ab99-a91223d5b621",
   "metadata": {},
   "source": [
    "Awk can be used to parse text files and split tokens.\n",
    "\n",
    "The `-F` option (field separator) is also explicitly defined as the variable `FS`.  Whitespace is the default `FS`. For a typical CSV file like `MOCK_DATA.csv`, using ',' is generally fine.  In this case, print the first 10 rows and piping the output to `head` to limit the length.\n",
    "\n",
    "Once awk splits the record using the field separator, `$1` is the first field, `$2` the second and so on. `$0` is the whole record.\n"
   ]
  },
  {
   "cell_type": "code",
   "execution_count": null,
   "id": "7b2d9545-c1ab-4977-85e6-b541f42909da",
   "metadata": {},
   "outputs": [],
   "source": [
    "awk -F',' '{print $1}' MOCK_DATA.csv | head -10"
   ]
  },
  {
   "cell_type": "markdown",
   "id": "d9536071-a041-45ca-b6ea-6745209c4a78",
   "metadata": {},
   "source": [
    "To skip the first line, use `NR>1` (NR = current record number):"
   ]
  },
  {
   "cell_type": "code",
   "execution_count": null,
   "id": "16ab9afc-cc25-4e5a-8c12-314bfaf3ff93",
   "metadata": {},
   "outputs": [],
   "source": [
    "awk -F, 'NR>1 {print $1}' MOCK_DATA.csv | head -10"
   ]
  },
  {
   "cell_type": "markdown",
   "id": "3d6a7e3e-31d2-42a9-9d6a-48c7999b365a",
   "metadata": {},
   "source": [
    "Awk also has a built-in variable called `NF` (the number of fields in the current record).\n",
    "\n",
    "Not all the rows have the same number of fields, why is that?"
   ]
  },
  {
   "cell_type": "code",
   "execution_count": null,
   "id": "2e5b3e54-f255-4b12-ab3b-09c1b0b89626",
   "metadata": {},
   "outputs": [],
   "source": [
    "awk -F, '{print NF}' MOCK_DATA.csv | head -10"
   ]
  },
  {
   "cell_type": "markdown",
   "id": "6fb49f8b-4c46-4a90-b318-dd0e85fdc201",
   "metadata": {},
   "source": [
    "This example reveals a challenge to Awk, the field separator is in the data itself.  More modern versions (5.3+) of awk support `--csv`, otherwise it is a bit more painful to process (or rexport as a TSV).\n",
    "\n",
    "In earlier versions, FPAT can be used to keep quoted text together:"
   ]
  },
  {
   "cell_type": "code",
   "execution_count": null,
   "id": "7ca56993-4044-42a7-8644-72dbb1506cd5",
   "metadata": {},
   "outputs": [],
   "source": [
    "awk -F, -v FPAT='\"[^\"]*\"|[^,]*' 'NF!=8' MOCK_DATA.csv"
   ]
  },
  {
   "cell_type": "markdown",
   "id": "2e64fef1-4230-4178-86fa-1350ec4c6046",
   "metadata": {},
   "source": [
    "^ No output mean no lines with more than 8 fields."
   ]
  },
  {
   "cell_type": "markdown",
   "id": "fc2c4ebd-a980-4709-92c7-7414e4692dba",
   "metadata": {},
   "source": [
    "Awk can also be used to do pattern matchig on records and fields.  This matches and prints out the records that match both Music and Wine:"
   ]
  },
  {
   "cell_type": "code",
   "execution_count": null,
   "id": "26740c3f-7bfd-4f4c-9998-3bc36c87747b",
   "metadata": {},
   "outputs": [],
   "source": [
    "awk -F, '/Music/ && /Wine/' MOCK_DATA.csv | head -10"
   ]
  },
  {
   "cell_type": "code",
   "execution_count": null,
   "id": "61a00f0e-24d7-483b-9257-f12eaff6d595",
   "metadata": {},
   "outputs": [],
   "source": [
    "awk -F, '$3 == \"Music\"' MOCK_DATA.csv | head -10"
   ]
  },
  {
   "cell_type": "code",
   "execution_count": null,
   "id": "cd52b848-98b0-44fb-8ff5-5c2f453366b1",
   "metadata": {},
   "outputs": [],
   "source": [
    "awk -W version"
   ]
  },
  {
   "cell_type": "code",
   "execution_count": null,
   "id": "33819cb1-4a5f-4a2b-bf1a-2b6ac0b14b62",
   "metadata": {},
   "outputs": [],
   "source": []
  }
 ],
 "metadata": {
  "language_info": {
   "name": "bash"
  }
 },
 "nbformat": 4,
 "nbformat_minor": 5
}
