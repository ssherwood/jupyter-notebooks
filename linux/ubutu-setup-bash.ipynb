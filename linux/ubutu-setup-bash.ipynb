{
 "cells": [
  {
   "cell_type": "code",
   "execution_count": null,
   "id": "14b62cca-bce5-4f05-bc80-ff5fed29314a",
   "metadata": {},
   "outputs": [],
   "source": []
  },
  {
   "cell_type": "code",
   "execution_count": null,
   "id": "e4948728-9155-4dc7-9b1e-0ba85fbf71b8",
   "metadata": {},
   "outputs": [],
   "source": []
  },
  {
   "cell_type": "code",
   "execution_count": null,
   "id": "c53e93e2-2351-49ac-bfd9-7811c8175672",
   "metadata": {},
   "outputs": [],
   "source": []
  },
  {
   "cell_type": "code",
   "execution_count": null,
   "id": "6e1b9fc4-0e2a-4d51-9ab4-27b7067e2d88",
   "metadata": {},
   "outputs": [],
   "source": []
  },
  {
   "cell_type": "code",
   "execution_count": null,
   "id": "fdb1424a-cd86-4645-be77-03a1fbd6af3a",
   "metadata": {},
   "outputs": [],
   "source": []
  },
  {
   "cell_type": "markdown",
   "id": "bafb9e03-9f61-413c-b3e0-628929865755",
   "metadata": {},
   "source": [
    "# Install and configure Docker\n",
    "\n",
    "* https://docs.docker.com/engine/install/ubuntu/\n",
    "* "
   ]
  },
  {
   "cell_type": "code",
   "execution_count": null,
   "id": "3427b8e0-0028-4ce9-aa90-1f4a5a363651",
   "metadata": {},
   "outputs": [],
   "source": [
    "curl -fsSL https://download.docker.com/linux/ubuntu/gpg | sudo gpg --dearmor -o /usr/share/keyrings/docker-archive-keyring.gpg"
   ]
  },
  {
   "cell_type": "code",
   "execution_count": null,
   "id": "c50157d2-420c-4a10-9e9e-e7b4c27a67d3",
   "metadata": {},
   "outputs": [],
   "source": [
    "echo \"deb [arch=amd64 signed-by=/usr/share/keyrings/docker-archive-keyring.gpg] https://download.docker.com/linux/ubuntu $(lsb_release -cs) stable\" | sudo tee /etc/apt/sources.list.d/docker.list > /dev/null"
   ]
  },
  {
   "cell_type": "code",
   "execution_count": null,
   "id": "4dfde9d3-6866-4d7c-a021-f439af674d7c",
   "metadata": {},
   "outputs": [],
   "source": [
    "sudo apt update"
   ]
  },
  {
   "cell_type": "code",
   "execution_count": null,
   "id": "5314cc8e-40af-4618-9151-7b2e300cebfd",
   "metadata": {},
   "outputs": [],
   "source": [
    "sudo apt install docker-ce docker-ce-cli containerd.io docker-buildx-plugin docker-compose-plugin -y"
   ]
  },
  {
   "cell_type": "code",
   "execution_count": null,
   "id": "c67fd8d0-ff16-40bf-9837-9c51bb887903",
   "metadata": {},
   "outputs": [],
   "source": [
    "# run docker without sudo\n",
    "sudo usermod -aG docker $USER"
   ]
  },
  {
   "cell_type": "code",
   "execution_count": null,
   "id": "6963cdd9-0583-480b-b492-e903dd16be3b",
   "metadata": {},
   "outputs": [],
   "source": [
    "newgrp docker"
   ]
  },
  {
   "cell_type": "code",
   "execution_count": null,
   "id": "51f89062-3b7e-4df7-aaf3-dec2054af73d",
   "metadata": {},
   "outputs": [],
   "source": [
    "docker run hello-world"
   ]
  },
  {
   "cell_type": "markdown",
   "id": "201f6d59-6376-4b12-b8ec-5135874fca5c",
   "metadata": {},
   "source": [
    "# Install and configure Java JDK (via SDKMan)\n",
    "\n",
    "* Reference: https://sdkman.io/\n",
    "* Additional info on JDK status: https://whichjdk.com/"
   ]
  },
  {
   "cell_type": "code",
   "execution_count": null,
   "id": "5bbc6de6-b93e-45e4-8e1b-1d2e7909af4f",
   "metadata": {},
   "outputs": [],
   "source": [
    "curl -s \"https://get.sdkman.io\" | bash"
   ]
  },
  {
   "cell_type": "code",
   "execution_count": null,
   "id": "3dfae8a9-5115-47e3-938f-9b6492ada446",
   "metadata": {},
   "outputs": [],
   "source": [
    "source \"/home/lurtz/.sdkman/bin/sdkman-init.sh\""
   ]
  },
  {
   "cell_type": "code",
   "execution_count": null,
   "id": "3aa343c2-a32d-483f-91cf-25b8469101f7",
   "metadata": {},
   "outputs": [],
   "source": [
    "sdk install java 8.0.432-tem"
   ]
  },
  {
   "cell_type": "code",
   "execution_count": null,
   "id": "b33f7e8c-bd6d-411b-8da0-5ab2a57e95d4",
   "metadata": {},
   "outputs": [],
   "source": [
    "sdk install java 11.0.25-tem"
   ]
  },
  {
   "cell_type": "code",
   "execution_count": null,
   "id": "517457a4-71c8-4e1d-95f9-84f531520487",
   "metadata": {},
   "outputs": [],
   "source": [
    "sdk install java 21.0.5-tem"
   ]
  },
  {
   "cell_type": "code",
   "execution_count": null,
   "id": "61529e1e-ba83-48f1-a77b-72c8b9bb6012",
   "metadata": {},
   "outputs": [],
   "source": [
    "sdk i ant"
   ]
  },
  {
   "cell_type": "code",
   "execution_count": null,
   "id": "81423a98-ecd1-4a84-a001-1ab345ecaede",
   "metadata": {},
   "outputs": [],
   "source": [
    "sdk i maven"
   ]
  },
  {
   "cell_type": "code",
   "execution_count": null,
   "id": "8e4fd8a7-06b0-4102-9f7c-4130743f3d15",
   "metadata": {},
   "outputs": [],
   "source": [
    "sdk i gradle"
   ]
  },
  {
   "cell_type": "code",
   "execution_count": null,
   "id": "24940020-d02d-46ff-8ab8-adb34abdaf90",
   "metadata": {},
   "outputs": [],
   "source": [
    "# test\n",
    "java -version"
   ]
  },
  {
   "cell_type": "markdown",
   "id": "454d852f-7bf4-44b6-bb71-8350438f45bb",
   "metadata": {},
   "source": [
    "# Installing Golang\n",
    "\n",
    "* https://go.dev/doc/install"
   ]
  },
  {
   "cell_type": "code",
   "execution_count": null,
   "id": "daf3e5f6-2b98-4eee-ab44-0600edae40b3",
   "metadata": {},
   "outputs": [],
   "source": [
    "wget https://go.dev/dl/go1.23.2.darwin-amd64.pkg"
   ]
  },
  {
   "cell_type": "code",
   "execution_count": null,
   "id": "ad658858-d0db-4105-bd0f-53b54889493c",
   "metadata": {},
   "outputs": [],
   "source": [
    "sudo rm -rf /usr/local/go && sudo tar -C /usr/local -xzf go1.23.2.linux-amd64.tar.gz"
   ]
  },
  {
   "cell_type": "code",
   "execution_count": null,
   "id": "6c9b5016-b41c-4a8d-aed3-319c254106bc",
   "metadata": {},
   "outputs": [],
   "source": [
    "go version"
   ]
  },
  {
   "cell_type": "code",
   "execution_count": null,
   "id": "9d49a74e-ae9f-416f-adb1-986daf63758e",
   "metadata": {},
   "outputs": [],
   "source": []
  },
  {
   "cell_type": "markdown",
   "id": "25b4a487-1380-432b-95c4-91c3daecc177",
   "metadata": {},
   "source": [
    "# Installing Tailscale\n",
    "\n",
    "* https://tailscale.com/kb/1476/install-ubuntu-2404\n",
    "* https://tailscale.com/kb/1241/tailscale-up"
   ]
  },
  {
   "cell_type": "code",
   "execution_count": null,
   "id": "2be7d991-7eae-419a-88ea-42573d8fc25b",
   "metadata": {},
   "outputs": [],
   "source": [
    "curl -fsSL https://pkgs.tailscale.com/stable/ubuntu/noble.noarmor.gpg | sudo tee /usr/share/keyrings/tailscale-archive-keyring.gpg >/dev/null\n",
    "curl -fsSL https://pkgs.tailscale.com/stable/ubuntu/noble.tailscale-keyring.list | sudo tee /etc/apt/sources.list.d/tailscale.list"
   ]
  },
  {
   "cell_type": "code",
   "execution_count": null,
   "id": "a653f1f1-a630-4db4-8d10-6e2523f64635",
   "metadata": {},
   "outputs": [],
   "source": [
    "sudo apt-get update\n",
    "sudo apt-get install tailscale"
   ]
  },
  {
   "cell_type": "code",
   "execution_count": null,
   "id": "873e7625-f9cf-4b76-8f16-3786c0e8da8b",
   "metadata": {},
   "outputs": [],
   "source": [
    "sudo tailscale login"
   ]
  },
  {
   "cell_type": "code",
   "execution_count": null,
   "id": "968cc2fd-44a3-4f0e-a205-9b17f978eb8b",
   "metadata": {},
   "outputs": [],
   "source": [
    "sudo tailscale up --accept-routes --stateful-filtering --shields-up"
   ]
  },
  {
   "cell_type": "code",
   "execution_count": null,
   "id": "d4807141-d50f-40da-861c-ce86a019b1b4",
   "metadata": {},
   "outputs": [],
   "source": [
    "tailscale status"
   ]
  },
  {
   "cell_type": "code",
   "execution_count": null,
   "id": "c9e79184-87b8-40fb-8224-11b949126085",
   "metadata": {},
   "outputs": [],
   "source": []
  },
  {
   "cell_type": "markdown",
   "id": "19f37b3e-5185-4fb5-a334-5b875e2cc353",
   "metadata": {},
   "source": [
    "# Installing Rust"
   ]
  },
  {
   "cell_type": "code",
   "execution_count": null,
   "id": "8965b1f8-6f64-495e-9d5d-c09b05a82090",
   "metadata": {},
   "outputs": [],
   "source": [
    "curl --proto '=https' --tlsv1.2 -sSf https://sh.rustup.rs | sh"
   ]
  },
  {
   "cell_type": "code",
   "execution_count": null,
   "id": "cf0655a1-0653-4cc0-8324-2f22085fff08",
   "metadata": {},
   "outputs": [],
   "source": []
  },
  {
   "cell_type": "code",
   "execution_count": null,
   "id": "764ffabe-9424-4846-aab9-537bdcc5ebbc",
   "metadata": {},
   "outputs": [],
   "source": []
  },
  {
   "cell_type": "code",
   "execution_count": null,
   "id": "3fc51e42-8a3d-4d60-aff2-49102c1f1923",
   "metadata": {},
   "outputs": [],
   "source": []
  },
  {
   "cell_type": "code",
   "execution_count": null,
   "id": "393d5e0b-94db-421d-819a-7c04089411fd",
   "metadata": {},
   "outputs": [],
   "source": []
  },
  {
   "cell_type": "markdown",
   "id": "a5e10df5-09d5-40b3-8b1f-87d2b840674c",
   "metadata": {},
   "source": [
    "# TODOs\n",
    "\n",
    "* rationalize .zshenv with other env / profile settings"
   ]
  },
  {
   "cell_type": "code",
   "execution_count": null,
   "id": "cd6b14dd-7ae1-4655-b359-c5a8ff390df7",
   "metadata": {},
   "outputs": [],
   "source": []
  }
 ],
 "metadata": {
  "language_info": {
   "name": "bash"
  }
 },
 "nbformat": 4,
 "nbformat_minor": 5
}
