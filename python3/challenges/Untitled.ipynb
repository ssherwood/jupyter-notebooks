{
 "cells": [
  {
   "cell_type": "code",
   "execution_count": null,
   "id": "7be1cf86-fbaf-4c66-8d23-883dfe82274e",
   "metadata": {},
   "outputs": [],
   "source": []
  },
  {
   "cell_type": "code",
   "execution_count": null,
   "id": "631fb165-3ff7-4b0e-ad19-05f6f9df4e1e",
   "metadata": {},
   "outputs": [],
   "source": []
  },
  {
   "cell_type": "markdown",
   "id": "712cb942-2a81-4c4f-a82f-0473b13cb68d",
   "metadata": {},
   "source": [
    "# Invert a Binary Tree\n",
    "\n",
    "\"Classic\" interview question.  First, ask why would you want to invert a binary tree?\n",
    "\n",
    "- Might be useful if you want to see if someting is a mirror of the object"
   ]
  },
  {
   "cell_type": "code",
   "execution_count": null,
   "id": "51402344-df01-4da2-8745-c31bbce30f20",
   "metadata": {},
   "outputs": [],
   "source": [
    "# first, create a binary tree \"node\"\n",
    "# a binary tree node has a possible left and right child node\n",
    "\n",
    "class BinaryTreeNode:\n",
    "    def __init__(self, value=0, left_node=None, right_node=None):\n",
    "        self.value = value\n",
    "        self.left = left_node\n",
    "        self.right = right_node"
   ]
  },
  {
   "cell_type": "code",
   "execution_count": null,
   "id": "8927d06a-4f3f-40e6-bff0-0ba4ab623c38",
   "metadata": {},
   "outputs": [],
   "source": [
    "# lets load it with data from an array\n",
    "\n",
    "def insert_level_order(arr, root, i, n):\n",
    "    # Base case for recursion\n",
    "    if i < n:\n",
    "        root = BinaryTreeNode(arr[i])\n",
    "\n",
    "        # Insert left child\n",
    "        root.left = insert_level_order(arr, root.left, 2 * i + 1, n)\n",
    "\n",
    "        # Insert right child\n",
    "        root.right = insert_level_order(arr, root.right, 2 * i + 2, n)\n",
    "\n",
    "    return root\n",
    "\n",
    "# \n",
    "arr = [4, 2, 7, 1, 3, 6, 9, 10] \n",
    "root = insert_level_order(arr, None, 0, len(arr))"
   ]
  },
  {
   "cell_type": "code",
   "execution_count": null,
   "id": "640ad054-d17f-41e8-b1d9-5bd95bf06e80",
   "metadata": {},
   "outputs": [],
   "source": [
    "#\n",
    "def print2DTree(root, space=0, LEVEL_SPACE=5):\n",
    "    if (root == None):\n",
    "        return\n",
    "    space += LEVEL_SPACE\n",
    "    print2DTree(root.right, space)\n",
    "    # print() # neighbor space\n",
    "    for i in range(LEVEL_SPACE, space):\n",
    "        print(end = \" \")  \n",
    "    print(\"|\" + str(root.value) + \"|<\")\n",
    "    print2DTree(root.left, space)"
   ]
  },
  {
   "cell_type": "code",
   "execution_count": null,
   "id": "0cccac2c-9947-498a-a8af-a8f933c37dec",
   "metadata": {},
   "outputs": [],
   "source": [
    "print2DTree(root)"
   ]
  },
  {
   "cell_type": "code",
   "execution_count": null,
   "id": "0b5dd032-bcc5-4aa2-86da-1f74e0970d82",
   "metadata": {},
   "outputs": [],
   "source": []
  }
 ],
 "metadata": {
  "language_info": {
   "name": "python"
  }
 },
 "nbformat": 4,
 "nbformat_minor": 5
}
