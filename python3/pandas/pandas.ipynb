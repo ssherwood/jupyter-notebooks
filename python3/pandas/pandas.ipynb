{
 "cells": [
  {
   "cell_type": "markdown",
   "id": "f7f4689a-9e8d-486f-840d-96b0e82d425a",
   "metadata": {},
   "source": [
    "\n",
    "## Resources\n",
    "* https://saturncloud.io/blog/how-to-use-pandas-with-jupyter-notebooks/\n"
   ]
  },
  {
   "cell_type": "code",
   "execution_count": null,
   "id": "a0bbe727-96be-4d06-ab3c-74f4ac1a0d90",
   "metadata": {},
   "outputs": [],
   "source": [
    "!pip install pandas"
   ]
  },
  {
   "cell_type": "code",
   "execution_count": null,
   "id": "14f6c80b-5757-4a06-96a2-1426ee464fd9",
   "metadata": {},
   "outputs": [],
   "source": []
  },
  {
   "cell_type": "code",
   "execution_count": null,
   "id": "61c39755-3987-4422-b063-144bf0726493",
   "metadata": {},
   "outputs": [],
   "source": [
    "# import the pandas library\n",
    "\n",
    "import pandas as pd"
   ]
  },
  {
   "cell_type": "code",
   "execution_count": null,
   "id": "700eeac2-2986-4c8f-a955-f292770ea964",
   "metadata": {},
   "outputs": [],
   "source": [
    "# create a Pandas DataFrame object from an existing CSV file:\n",
    "\n",
    "data_frame = pd.read_csv('data.csv')\n",
    "data_frame.head() # retrieve the first 5 rows and display them in a table"
   ]
  },
  {
   "cell_type": "code",
   "execution_count": null,
   "id": "25d20fb5-5e49-4c1b-bf18-6f90e5da8a54",
   "metadata": {},
   "outputs": [],
   "source": [
    "# pandas can do some basic numerical analysis on the data with `describe()`\n",
    "data_frame.describe()"
   ]
  },
  {
   "cell_type": "code",
   "execution_count": null,
   "id": "66ed98ae-e4a5-418c-9bad-f44e93d36d6a",
   "metadata": {},
   "outputs": [],
   "source": [
    "# get all the values in a specific column, e.g. `age`\n",
    "\n",
    "data_frame['age']"
   ]
  },
  {
   "cell_type": "code",
   "execution_count": null,
   "id": "33473046-1672-48b8-9789-7d4ba7110a07",
   "metadata": {},
   "outputs": [],
   "source": []
  }
 ],
 "metadata": {
  "language_info": {
   "name": "python"
  }
 },
 "nbformat": 4,
 "nbformat_minor": 5
}
