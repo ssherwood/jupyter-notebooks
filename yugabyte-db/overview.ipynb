{
 "cells": [
  {
   "cell_type": "markdown",
   "id": "88362be3-77c9-4900-b86e-257533fe75c6",
   "metadata": {},
   "source": [
    "# YugabtyeDB\n",
    "\n",
    "YugabyteDB is an open-source, cloud-native distributed SQL database designed for powering large-scale applications.\n",
    "It combines the benefits of traditional relational databases with the scalability and resilience of modern NoSQL systems.\n",
    "\n",
    "These are some key characteristics of YugabyteDB:\n",
    "\n",
    "- **PostgreSQL-compatible**: YugabyteDB is fully compatible with PostgreSQL (15), allowing developers to leverage existing PostgreSQL knowledge and tools.\n",
    "\n",
    "- **Distributed architecture**: It's built to be horizontally scalable, fault-tolerant, and globally distributed.\n",
    "  \n",
    "- **Strong consistency**: YugabyteDB provides strong ACID guarantees for distributed transactions.\n",
    "\n",
    "- **Multiple APIs**: It supports both SQL (YSQL) and NoSQL/Cassandra (YCQL) APIs, offering flexibility for different application needs.\n",
    "\n",
    "- **Cloud-native**: YugabyteDB can be deployed across public and private clouds as well as in Kubernetes environments.\n",
    "\n",
    "- **Open source**: YugabyteDB is 100% open source, licensed under Apache 2.0.\n",
    "\n",
    "YugabyteDB is particularly well-suited for applications that require high performance, scalability, and strong consistency, such as distributed OLTP applications, hybrid transactional/analytical processing (HTAP) workloads, and streaming applications.\n"
   ]
  },
  {
   "cell_type": "markdown",
   "id": "525e1903-8844-4cbc-b833-0b2ed7f4b3b9",
   "metadata": {},
   "source": [
    "# Additional Resources\n",
    "\n",
    "## Official\n",
    "\n",
    "* https://docs.yugabyte.com/\n",
    "\n",
    "## Unofficial\n",
    "\n",
    "* https://yugabytedb.tips/"
   ]
  },
  {
   "cell_type": "code",
   "execution_count": null,
   "id": "c70dc89c-cb27-43b2-a611-6e55971e848b",
   "metadata": {},
   "outputs": [],
   "source": []
  }
 ],
 "metadata": {
  "language_info": {
   "name": "bash"
  }
 },
 "nbformat": 4,
 "nbformat_minor": 5
}
