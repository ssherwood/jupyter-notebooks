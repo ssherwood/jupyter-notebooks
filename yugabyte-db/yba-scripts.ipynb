{
 "cells": [
  {
   "cell_type": "code",
   "execution_count": null,
   "id": "c26a3b80-dddf-4cc9-a0f8-c8dddc95bdac",
   "metadata": {},
   "outputs": [],
   "source": []
  },
  {
   "cell_type": "code",
   "execution_count": null,
   "id": "79a02bc9-4060-4f1b-9aa5-e64377592b7d",
   "metadata": {},
   "outputs": [],
   "source": []
  },
  {
   "cell_type": "code",
   "execution_count": null,
   "id": "108f87d4-3ae2-4b3c-8cf8-bc9d0189c0f8",
   "metadata": {},
   "outputs": [],
   "source": []
  },
  {
   "cell_type": "code",
   "execution_count": null,
   "id": "923a2100-67e1-4520-9b11-105689d01523",
   "metadata": {},
   "outputs": [],
   "source": []
  },
  {
   "cell_type": "code",
   "execution_count": null,
   "id": "71c5c3f1-4cec-4ba6-b83a-4d1ae434aa92",
   "metadata": {},
   "outputs": [],
   "source": [
    "#!/usr/bin/env bash\n",
    "\n",
    "yugaware_url=\"ycs-gcp-platform-stable01\"\n",
    "auth_token=\"bcc36425-06b9-4bd2-b567-25370b9ec1d1\"\n",
    "customer_uuid=\"38b7df44-4993-4b8c-be89-b12b3c6f7921\"\n",
    "\n",
    "# Search the list of universes for any that have a instance tag with \"yb_pause_at\" and try to match it to the current UTC hour.\n",
    "# if it matches, then ask it to pause...\n",
    "# echo \"Current hour is ${current_hour} UTC\"\n",
    "\n",
    "current_hour=`date +%H`\n",
    "\n",
    "while IFS=\",\" read -r uuid name\n",
    "do\n",
    "  echo \"Universe: $name ($uuid) will be paused at ${current_hour} UTC...\"\n",
    "  curl --silent --insecure --request POST \\\n",
    "--url \"https://${yugaware_url}/api/v1/customers/${customer_uuid}/universes/${uuid}/pause\" \\\n",
    "--header 'Content-Type: application/json' \\\n",
    "--header \"X-AUTH-YW-API-TOKEN: ${auth_token}\" \\\n",
    "--data '{}'; echo\n",
    "done < <(curl --silent --insecure --request GET \\\n",
    "--url https://${yugaware_url}/api/v1/customers/${customer_uuid}/universes \\\n",
    "--header 'Content-Type: text/json' \\\n",
    "--header \"X-AUTH-YW-API-TOKEN: ${auth_token}\" | jq -r '.[].universeDetails | select(.universePaused==false) | select(.clusters[].clusterType==\"PRIMARY\") | select(.clusters[].userIntent.instanceTags.yb_pause_at=='\\\"\"${current_hour}\"\\\"') | [.universeUUID, .clusters[].userIntent.universeName] | join(\",\")')"
   ]
  },
  {
   "cell_type": "code",
   "execution_count": null,
   "id": "20af1856-3a17-450e-9e05-98420c768e64",
   "metadata": {},
   "outputs": [],
   "source": []
  },
  {
   "cell_type": "code",
   "execution_count": null,
   "id": "c316eb03-1927-4c2e-b3e0-db9b1f4db45b",
   "metadata": {},
   "outputs": [],
   "source": [
    "#!/usr/bin/env bash\n",
    "\n",
    "yugaware_url=\"ycs-gcp-platform-stable01\"\n",
    "auth_token=\"bcc36425-06b9-4bd2-b567-25370b9ec1d1\"\n",
    "customer_uuid=\"38b7df44-4993-4b8c-be89-b12b3c6f7921\"\n",
    "\n",
    "# Search the list of universes for any that have a instance tag with \"yb_resume_at\" and try to match it to the current UTC hour.\n",
    "# if it matches, then ask it to resume...\n",
    "# echo \"Current hour is ${current_hour} UTC\"\n",
    "\n",
    "current_hour=`date +%H`\n",
    "\n",
    "while IFS=\",\" read -r uuid name\n",
    "do\n",
    "  echo \"Universe: $name ($uuid) will be resumed at ${current_hour} UTC...\"\n",
    "  curl --silent --insecure --request POST \\\n",
    "--url \"https://${yugaware_url}/api/v1/customers/${customer_uuid}/universes/${uuid}/resume\" \\\n",
    "--header 'Content-Type: application/json' \\\n",
    "--header \"X-AUTH-YW-API-TOKEN: ${auth_token}\" \\\n",
    "--data '{}'; echo\n",
    "done < <(curl --silent --insecure --request GET \\\n",
    "--url https://${yugaware_url}/api/v1/customers/${customer_uuid}/universes \\\n",
    "--header 'Content-Type: text/json' \\\n",
    "--header \"X-AUTH-YW-API-TOKEN: ${auth_token}\" | jq -r '.[].universeDetails | select(.universePaused==false) | select(.clusters[].clusterType==\"PRIMARY\") | select(.clusters[].userIntent.instanceTags.yb_resume_at=='\\\"\"${current_hour}\"\\\"') | [.universeUUID, .clusters[].userIntent.universeName] | join(\",\")')"
   ]
  },
  {
   "cell_type": "code",
   "execution_count": null,
   "id": "1fc85961-b453-4c5a-be65-42569a281361",
   "metadata": {},
   "outputs": [],
   "source": []
  },
  {
   "cell_type": "code",
   "execution_count": null,
   "id": "d9478012-055e-4d07-9f43-b5a555b29586",
   "metadata": {},
   "outputs": [],
   "source": [
    "# every hour attempt to pause any universes with yb_pause_at set on that hour\n",
    "0 * * * * /home/ssherwood/scripts/yb_pause_at.sh\n",
    "\n",
    "# every hour on weekdays resume any universes with yb_resume_at set on that hour\n",
    "0 * * * 1-5 /home/ssherwood/scripts/yb_resume_at.sh"
   ]
  }
 ],
 "metadata": {
  "language_info": {
   "name": "bash"
  }
 },
 "nbformat": 4,
 "nbformat_minor": 5
}
