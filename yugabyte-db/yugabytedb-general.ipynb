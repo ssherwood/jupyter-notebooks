{
 "cells": [
  {
   "cell_type": "markdown",
   "id": "07c5feaa-42a0-403c-bf61-e51cd6173720",
   "metadata": {},
   "source": [
    "# YugabyteDB\n",
    "\n",
    "## Connect to YBA Host\n",
    "\n",
    "Use ssh to connect to the YB host as a jump box (this will give access to the required ssh keys:\n",
    "\n",
    "```shell\n",
    "ssh -i ~/.ssh/gcp.pub uid@platform-url\n",
    "```\n",
    "\n",
    "## Connect to Desired DB Node\n",
    "\n",
    "Use the string provided by the YBA \"Connect\" action.  E.g.:\n",
    "\n",
    "```shell\n",
    "sudo ssh -i /opt/yugabyte/yugaware/data/keys/<customer_id>/<yb_node>_<yb_node_id>-key.pem -ostricthostkeychecking=no -p 54422 yugabyte@<ip_address>\n",
    "```\n",
    "\n",
    "## Setup DB Node\n",
    "\n",
    "Run these commands to quickstart ysqlsh and yb-admin:\n",
    "\n",
    "`enable_wait_queues=true,enable_deadlock_detection=true,wait_queue_poll_interval_ms=5` don't set these in < 2024.1\n"
   ]
  },
  {
   "cell_type": "code",
   "execution_count": null,
   "id": "9eec333a-6f27-4559-a057-3d94899eb24e",
   "metadata": {},
   "outputs": [],
   "source": [
    "# Initialize secrets from the local .env file here\n",
    "source .env\n",
    "echo $MY_SECRET"
   ]
  },
  {
   "cell_type": "markdown",
   "id": "9680ca8f-206e-46ad-87dd-06ee9c749093",
   "metadata": {},
   "source": [
    "## Initialise an RF3 Cluster"
   ]
  },
  {
   "cell_type": "code",
   "execution_count": null,
   "id": "3309e835-1077-4994-a2ca-d38e66a01c84",
   "metadata": {},
   "outputs": [],
   "source": [
    "yugabyted start --advertise_address=127.0.0.1 --base_dir=/tmp/ybd-gcp1 --cloud_location=gcp.us-east1.us-east1-c --tserver_flags \"yb_enable_read_committed_isolation=true,enable_wait_queues=true,enable_deadlock_detection=true,wait_queue_poll_interval_ms=5,ysql_log_statement=all\""
   ]
  },
  {
   "cell_type": "code",
   "execution_count": null,
   "id": "810e35e3-4851-4e94-a9af-efe51e3a0750",
   "metadata": {},
   "outputs": [],
   "source": [
    "yugabyted start --advertise_address=127.0.0.2 --base_dir=/tmp/ybd-gcp2 --cloud_location=gcp.us-central1.us-central1-b --tserver_flags \"yb_enable_read_committed_isolation=true,enable_wait_queues=true,enable_deadlock_detection=true,wait_queue_poll_interval_ms=5,ysql_log_statement=all\" --join=127.0.0.1"
   ]
  },
  {
   "cell_type": "code",
   "execution_count": null,
   "id": "5a2e8437-8f82-46fa-871b-074bf6987596",
   "metadata": {},
   "outputs": [],
   "source": [
    "yugabyted start --advertise_address=127.0.0.3 --base_dir=/tmp/ybd-gcp3 --cloud_location=gcp.us-west1.us-west1-a --tserver_flags \"yb_enable_read_committed_isolation=true,enable_wait_queues=true,enable_deadlock_detection=true,wait_queue_poll_interval_ms=5,ysql_log_statement=all\" --join=127.0.0.1"
   ]
  },
  {
   "cell_type": "code",
   "execution_count": null,
   "id": "125cad87-5519-4f47-84f9-bc285e43c04c",
   "metadata": {},
   "outputs": [],
   "source": [
    "yugabyted status --base_dir=/tmp/ybd-gcp1"
   ]
  },
  {
   "cell_type": "code",
   "execution_count": null,
   "id": "ae1d98d2-9d48-4528-a3c3-3db341d35392",
   "metadata": {},
   "outputs": [],
   "source": [
    "yugabyted stop --base_dir=/tmp/ybd-gcp3"
   ]
  },
  {
   "cell_type": "code",
   "execution_count": null,
   "id": "f0fe9089-01d9-407c-8a8e-be06f4ff2e6e",
   "metadata": {},
   "outputs": [],
   "source": [
    "yugabyted version"
   ]
  },
  {
   "cell_type": "code",
   "execution_count": null,
   "id": "40e026a7-5aef-4321-8a0c-d2ddc0d3a90a",
   "metadata": {},
   "outputs": [],
   "source": [
    "export PATH=~/tserver/bin:~/master/bin:$PATH\n",
    "alias ysqlsh=\"ysqlsh -h /tmp/.yb*\"\n",
    "alias ycqlsh=\"SSL_CERTFILE=/home/yugabyte/yugabyte-tls-config/ca.crt ycqlsh --ssl `hostname -f` -u cassandra\"\n",
    "alias yba=\"yb-admin -init_master_addrs `hostname -f` --certs_dir_name=/home/yugabyte/yugabyte-tls-config/\""
   ]
  },
  {
   "cell_type": "markdown",
   "id": "0a1e6cab-7b75-47cf-8ab2-323311eec0b1",
   "metadata": {},
   "source": [
    "# Log into YSQL\n",
    "\n",
    "```sh\n",
    "ysqlsh\n",
    "```"
   ]
  },
  {
   "cell_type": "markdown",
   "id": "e1d54a2f-27e8-4f4b-9534-112f12360307",
   "metadata": {},
   "source": [
    "## Setup YSQLSH\n",
    "\n",
    "```sql\n",
    "\\pset pager off\n",
    "\\set ea 'explain (analyze,dist) '\n",
    "set search_path to <schema>\n",
    "```"
   ]
  },
  {
   "cell_type": "markdown",
   "id": "316d5584-3bff-4faf-af37-66afecd55207",
   "metadata": {},
   "source": [
    "## Insert a Lot of Data\n",
    "\n",
    "```sql\n",
    "DO\n",
    "$$\n",
    "    DECLARE\n",
    "        chunk_size INT := 25000;\n",
    "        total_rows INT := 1000000;\n",
    "        i          INT := 1;\n",
    "    BEGIN\n",
    "        WHILE i <= total_rows\n",
    "            LOOP\n",
    "                INSERT INTO yb_user(email, display_name, region, password_hash, avatar_url, full_name)\n",
    "                SELECT 'foo' || seq || '@bar.com', 'Foo ' || seq, 'USA', '***', '', ''\n",
    "                from generate_series(i, i + chunk_size - 1) as seq;\n",
    "                i := i + chunk_size;\n",
    "                RAISE NOTICE 'Inserted % out of % rows', i, total_rows;\n",
    "                COMMIT;\n",
    "            END LOOP;\n",
    "    END\n",
    "$$;\n",
    "```"
   ]
  },
  {
   "cell_type": "markdown",
   "id": "2bc7e959-e9d2-46ee-b97e-fe1eed66e7f8",
   "metadata": {},
   "source": [
    "```sql\n",
    "insert into test1(upc, status) select floor(random()*100+1)::text, floor(random()*6)::int from generate_series(1,1000);\n",
    "```"
   ]
  },
  {
   "cell_type": "markdown",
   "id": "3b67f5b3-dacb-4b07-91d8-58e79895e4e7",
   "metadata": {},
   "source": [
    "# Insert with pattern UUID generation\n",
    "\n",
    "```sql\n",
    "insert into yb_device_tracker (device_id, media_id, status)\n",
    "    select uuid('cdd7cacd-8e0a-4372-8ceb-'||lpad(seq::text, 12, '0')),\n",
    "    '48d1c2c2-0d83-43d9-bc17-'||lpad(seq::text, 12, '0'),'ACTIVE'||seq\n",
    "    from generate_series(1,1000) as seq;\n",
    "```\n",
    "\n",
    "```sql\n",
    "insert into budget_tracker (group_id, interval_start, amount, remaining)\n",
    "    select uuid('cdd7cacd-8e0a-4372-8ceb-'||lpad(seq::text, 12, '0')), seq%24, 100.00, 99.99\n",
    "    from generate_series(1,10000) as seq;\n",
    "```\n",
    "\n",
    "```sql\n",
    "insert into user_lists(id, user_id, modified, deleted) select uuid_generate_v4(), 'test'||seq, now(), false from generate_series(2,20000) as seq;\n",
    "```"
   ]
  },
  {
   "cell_type": "markdown",
   "id": "3bc3367d-ffd6-48f2-904e-eb72c32f2ea4",
   "metadata": {},
   "source": [
    "# PG Stats Statements\n",
    "\n",
    "```sql\n",
    "select substring(regexp_replace(query,E'[\\n+]',' ','g'),1,150) as query,calls,rows,total_time from pg_stat_statements order by calls desc;\n",
    "```\n",
    "\n",
    "or (from https://dbaclass.com/article/monitor-sql-queries-in-postgres-using-pg_stat_statements/)\n",
    "\n",
    "```sql\n",
    "SELECT substring(query, 1, 50) AS query,\n",
    "round(total_time::numeric, 2) AS total_time,\n",
    "calls,\n",
    "round(mean_time::numeric, 2) AS mean,\n",
    "round((100 * total_time /\n",
    "sum(total_time::numeric) OVER ())::numeric, 2) AS percentage_cpu\n",
    "FROM pg_stat_statements\n",
    "ORDER BY total_time DESC\n",
    "LIMIT 10;\n",
    "```"
   ]
  },
  {
   "cell_type": "markdown",
   "id": "2de65125-0df8-4814-a86d-f3fc7aed37ec",
   "metadata": {},
   "source": [
    "## Helpful Stuff\n",
    "\n",
    "### > Get the YugabyteDB table properties (can be used on indexes as well):\n",
    "\n",
    "```sql\n",
    "select num_tablets from yb_table_properties('payments'::regclass);\n",
    "```\n",
    "\n",
    "### > Get Number of Tablets and Size\n",
    "\n",
    "```sql\n",
    "select num_tablets, pg_size_pretty(pg_table_size('employees')) from yb_table_properties('employees'::regclass);\n",
    "```\n",
    "\n",
    "### > Get Splits\n",
    "\n",
    "```sql\n",
    "select yb_get_range_split_clause('payments'::regclass);\n",
    "```"
   ]
  },
  {
   "cell_type": "code",
   "execution_count": null,
   "id": "ff7b87b6-a42f-4791-a01e-228b3aff1a87",
   "metadata": {},
   "outputs": [],
   "source": [
    "\n",
    "\n",
    "curl -s 10.12.16.9:9000/metrics | grep -P --no-group-separator \"\\\"(id|table_id|transactions_running)\\\"\" -A1 | grep -P \"\\\"\"\n"
   ]
  },
  {
   "cell_type": "markdown",
   "id": "518a0e3b-c3aa-4773-8929-d4ef961c4f67",
   "metadata": {},
   "source": [
    "#YB Admin\n",
    "\n",
    "## List CDC Streams (for Xcluster)\n",
    "```sh\n",
    "yb-admin -init_master_addrs `hostname -f` --certs_dir_name=/home/yugabyte/yugabyte-tls-config/  list_cdc_streams\n",
    "```"
   ]
  },
  {
   "cell_type": "markdown",
   "id": "d62afdd7-ad51-4895-98fb-6bb1f94fe9e7",
   "metadata": {},
   "source": [
    "# YBA API: Check the Status of a YBA Setting (Read/Write Test)\n",
    "\n",
    "Use the Universe ID 00000000-0000-0000-0000-000000000000 to check the Global setting."
   ]
  },
  {
   "cell_type": "code",
   "execution_count": null,
   "id": "8d64ef12-30f5-4bee-85bd-d8f492be0206",
   "metadata": {},
   "outputs": [],
   "source": [
    "UNIVERSE_ID=\"1b7f4e6b-b819-4f0c-8e69-8000d46689b5\"\n",
    "\n",
    "curl -s --insecure --request GET \\\n",
    "--url https://ycs-gcp-platform-stable01/api/v1/customers/${CUSTOMER_ID}/runtime_config/${UNIVERSE_ID}/key/yb.metrics.db_read_write_test \\\n",
    "--header 'Content-Type: application/json' \\\n",
    "--header \"X-AUTH-YW-API-TOKEN: ${AUTH_TOKEN}\" | jq"
   ]
  },
  {
   "cell_type": "markdown",
   "id": "4cb884b0-8c32-4c32-9115-a2084f301163",
   "metadata": {},
   "source": [
    "# YBA API: Disable the Read/Write Test for a Given Universe"
   ]
  },
  {
   "cell_type": "code",
   "execution_count": null,
   "id": "392316de-006e-4d2e-866a-1dfd590a672b",
   "metadata": {},
   "outputs": [],
   "source": [
    "UNIVERSE_ID=\"1b7f4e6b-b819-4f0c-8e69-8000d46689b5\"\n",
    "\n",
    "curl --insecure --request PUT \\\n",
    "--url https://ycs-gcp-platform-stable01/api/v1/customers/${CUSTOMER_ID}/runtime_config/${UNIVERSE_ID}/key/yb.metrics.db_read_write_test \\\n",
    "--header 'Content-Type: text/plain' \\\n",
    "--header \"X-AUTH-YW-API-TOKEN: ${AUTH_TOKEN}\" \\\n",
    "--data 'false'"
   ]
  },
  {
   "cell_type": "code",
   "execution_count": null,
   "id": "62096431-9ed1-423b-a462-b1f0bdc857dc",
   "metadata": {},
   "outputs": [],
   "source": []
  },
  {
   "cell_type": "markdown",
   "id": "09633045-8aa6-4ccb-b38c-eab4c126566a",
   "metadata": {},
   "source": [
    "# YBA API: Pause a Universe"
   ]
  },
  {
   "cell_type": "code",
   "execution_count": null,
   "id": "e7effdc1-6d13-4a0a-a655-4ee1c820c798",
   "metadata": {},
   "outputs": [],
   "source": [
    "UNIVERSE_ID=\"1b7f4e6b-b819-4f0c-8e69-8000d46689b5\"\n",
    "\n",
    "curl --insecure --request POST \\\n",
    "--url https://ycs-gcp-platform-stable01/api/v1/customers/${CUSTOMER_ID}/universes/${UNIVERSE_ID}/pause \\\n",
    "--header 'Content-Type: application/json' \\\n",
    "--header \"X-AUTH-YW-API-TOKEN: ${AUTH_TOKEN}\" \\\n",
    "--data '{}'"
   ]
  },
  {
   "cell_type": "markdown",
   "id": "efd4ed4c-1d52-452f-bf63-7947f692dd16",
   "metadata": {},
   "source": [
    "# YBA API: Resume a Universe"
   ]
  },
  {
   "cell_type": "code",
   "execution_count": null,
   "id": "1fc61574-3605-498d-bd0d-7842ba981c02",
   "metadata": {},
   "outputs": [],
   "source": [
    "curl --insecure --request POST \\\n",
    "--url https://ycs-gcp-platform-stable01/api/v1/customers/${CUSTOMER_ID}/universes/${UNIVERSE_ID}/resume \\\n",
    "--header 'Content-Type: application/json' \\\n",
    "--header \"X-AUTH-YW-API-TOKEN: ${AUTH_TOKEN}\" \\\n",
    "--data '{}'"
   ]
  },
  {
   "cell_type": "code",
   "execution_count": null,
   "id": "8f593627-972d-4503-9d1c-06aed2c01fb4",
   "metadata": {},
   "outputs": [],
   "source": [
    "???"
   ]
  },
  {
   "cell_type": "code",
   "execution_count": null,
   "id": "dc84208a-f583-4012-9ff0-04243287c02d",
   "metadata": {},
   "outputs": [],
   "source": [
    "curl --insecure --request GET \\\n",
    "--url https://ycs-gcp-platform-stable01/api/v1/customers/${CUSTOMER_ID}/universes \\\n",
    "--header 'Content-Type: application/json' \\\n",
    "--header \"X-AUTH-YW-API-TOKEN: ${AUTH_TOKEN}\" \\\n",
    "--data '{}' | jq"
   ]
  },
  {
   "cell_type": "code",
   "execution_count": null,
   "id": "94adb92a-4e43-481a-acdd-8b87e056357d",
   "metadata": {},
   "outputs": [],
   "source": [
    "SOURCE_UNIVERSE_ID=\"df95841c-6ee4-464f-9ac2-40f545072348\"\n",
    "TARGET_UNIVERSE_ID=\"43cf7e59-72ba-40cc-a552-016d075f3da4\"\n",
    "\n",
    "function getVersion() {\n",
    "    local universe=\"$1\"\n",
    "    echo $(curl -s --insecure --request GET \\\n",
    "                   --url https://ycs-gcp-platform-stable01/api/v1/customers/${CUSTOMER_ID}/universes/${universe} \\\n",
    "                   --header 'Content-Type: application/json' \\\n",
    "                   --header \"X-AUTH-YW-API-TOKEN: ${AUTH_TOKEN}\" | jq -r .universeDetails.clusters[0].userIntent.ybSoftwareVersion)\n",
    "}\n",
    "\n",
    "# get the versions\n",
    "sourceVersion=$(getVersion $SOURCE_UNIVERSE_ID)\n",
    "targetVersion=$(getVersion $TARGET_UNIVERSE_ID)\n",
    "\n",
    "if [[ \"$sourceVersion\" != \"$targetVersion\" ]]; then\n",
    "  echo \"Warning: source version $sourceVersion does not match target $targetVersion\"\n",
    "fi"
   ]
  },
  {
   "cell_type": "code",
   "execution_count": null,
   "id": "b159f31a-44a6-4420-b68e-cf3e81a9e9e7",
   "metadata": {},
   "outputs": [],
   "source": [
    "curl --insecure --request GET \\\n",
    "--url https://ycs-gcp-platform-stable01/api/v1/customers/${CUSTOMER_ID}/dr_configs/6a6c2a2c-a7bb-4b9b-a304-3023c8ece875 \\\n",
    "--header 'Content-Type: application/json' \\\n",
    "--header \"X-AUTH-YW-API-TOKEN: ${AUTH_TOKEN}\" | jq"
   ]
  },
  {
   "cell_type": "code",
   "execution_count": null,
   "id": "178ef987-4671-4b55-b8bb-7fd43e06751c",
   "metadata": {},
   "outputs": [],
   "source": []
  }
 ],
 "metadata": {
  "language_info": {
   "name": "bash"
  }
 },
 "nbformat": 4,
 "nbformat_minor": 5
}
